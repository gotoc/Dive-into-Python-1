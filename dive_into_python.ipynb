{
 "metadata": {
  "name": "dive_into_python"
 },
 "nbformat": 3,
 "nbformat_minor": 0,
 "worksheets": [
  {
   "cells": [
    {
     "cell_type": "markdown",
     "metadata": {},
     "source": [
      "Dive into Python www.diveintopython.net by Mark Pilgrim and currently maintained by Josh Gachnag."
     ]
    },
    {
     "cell_type": "heading",
     "level": 1,
     "metadata": {},
     "source": [
      "Just messing with IPython notebook!"
     ]
    },
    {
     "cell_type": "code",
     "collapsed": false,
     "input": [
      "# just a little graph to test\n",
      "from matplotlib.pyplot import *\n",
      "x = linspace(0, 20)\n",
      "plot(x, sin(x))\n",
      "title(\"A simple sine wave\")"
     ],
     "language": "python",
     "metadata": {},
     "outputs": [
      {
       "output_type": "pyout",
       "prompt_number": 42,
       "text": [
        "<matplotlib.text.Text at 0x10e00ed10>"
       ]
      },
      {
       "output_type": "display_data",
       "png": "[encoded data removed]"
      }
     ],
     "prompt_number": 42
    },
    {
     "cell_type": "heading",
     "level": 1,
     "metadata": {},
     "source": [
      "Chapter 2 - Your first python program"
     ]
    },
    {
     "cell_type": "code",
     "collapsed": false,
     "input": [
      "\"\"\" odbchelper.py\"\"\"\n",
      "\n",
      "\n",
      "def buildConnectionString(params):\n",
      "\t\"\"\"Build a connection string from a dictionary of parameters.\n",
      "\n",
      "\tReturns string.\"\"\"\n",
      "\n",
      "\treturn \";\".join([\"%s=%s\" % (k, v) for k, v in params.items()])\n",
      "\n",
      "\n",
      "\"\"\" \t__name__ is an attribute of the function.\n",
      "\t\tOther attributes can be accessed with dir(function or library):\n",
      "\t\t__doc__ for the docstring ie the first line of the function in tripple quotes.\n",
      "\t\t__file__ for the filename.\n",
      "\t\t__builtins__ for the built in Python functions.\n",
      "\n",
      "\t\tAnd remember, everything in Python is an object. Functions, modules, lists, variables.\n",
      "\"\"\"\n",
      "\n",
      "def fib(n):\n",
      "\t\"\"\" Prints the Fibonacci series.\n",
      "\n",
      "\t\tReturns the Fibonacci series. \"\"\"\n",
      "\tprint 'n = ', n\n",
      "\tif n > 1:\n",
      "\t\treturn n * fib(n-1)\n",
      "\telse:\n",
      "\t\tprint \"Nothing to see here!\"\n",
      "\t\treturn 1\n",
      "\n",
      "\n",
      "\"\"\" By testing if __name__ is __main__ you can test the module as a standalone piece of code.\n",
      "\tIf the file is run directly the value of __name__ is __main__ so the indented code runs.\n",
      "\tIf the file is imported as a module, the value of name is something else, maybe the name of the file.\n",
      "\t\"\"\"\n",
      "\n",
      "if __name__ == \"__main__\":\n",
      "\n",
      "\tmyParams = {\n",
      "\t\t\"server\" : \"mpilgrim\", \\\n",
      "\t\t\"database\" : \"master\", \\\n",
      "\t\t\"uid\" : \"sa\", \\\n",
      "\t\t\"pwd\" : \"secret\" \\\n",
      "\t}\n",
      "\n",
      "\tprint buildConnectionString(myParams)\n",
      "\tfib(5)\n",
      "\n",
      "\tprint \"Hey, you ran me from the command line!\"\n",
      "\tprint \"You could test me from here.\"\n",
      "\tprint \"My name attribute is: \", __name__\n",
      "\tprint \"Or import me to access the modules functions.\"\n",
      "\t\n",
      "\n",
      "\n"
     ],
     "language": "python",
     "metadata": {},
     "outputs": [
      {
       "output_type": "stream",
       "stream": "stdout",
       "text": [
        "pwd=secret;database=master;uid=sa;server=mpilgrim\n",
        "n =  5\n",
        "n =  4\n",
        "n =  3\n",
        "n =  2\n",
        "n =  1\n",
        "Nothing to see here!\n",
        "Hey, you ran me from the command line!\n",
        "You could test me from here.\n",
        "My name attribute is:  __main__\n",
        "Or import me to access the modules functions.\n"
       ]
      }
     ],
     "prompt_number": 101
    },
    {
     "cell_type": "code",
     "collapsed": false,
     "input": [
      "fib(5)"
     ],
     "language": "python",
     "metadata": {},
     "outputs": [
      {
       "output_type": "stream",
       "stream": "stdout",
       "text": [
        "n =  5\n",
        "n =  4\n",
        "n =  3\n",
        "n =  2\n",
        "n =  1\n",
        "Nothing to see here!\n"
       ]
      },
      {
       "output_type": "pyout",
       "prompt_number": 102,
       "text": [
        "120"
       ]
      }
     ],
     "prompt_number": 102
    },
    {
     "cell_type": "code",
     "collapsed": false,
     "input": [
      "# print some function attributes\n",
      "print \"Docstring: %s \" % fib.__doc__\n",
      "print \"Name: %s\" % fib.__name__"
     ],
     "language": "python",
     "metadata": {},
     "outputs": [
      {
       "output_type": "stream",
       "stream": "stdout",
       "text": [
        "Docstring:  Prints the Fibonacci series.\n",
        "\t\tReturns the Fibonacci series.  \n",
        "Name: fib\n"
       ]
      }
     ],
     "prompt_number": 45
    },
    {
     "cell_type": "code",
     "collapsed": false,
     "input": [
      "# import module search path\n",
      "import sys\n",
      "sys.path"
     ],
     "language": "python",
     "metadata": {},
     "outputs": [
      {
       "output_type": "pyout",
       "prompt_number": 46,
       "text": [
        "['',\n",
        " '/opt/pynaoqi-python2.7-1.22.1.46-mac64',\n",
        " '/Users/mikemcfarlane/Dropbox/Code/Repositories/Python/Dive into Python',\n",
        " '/Applications/Canopy.app/appdata/canopy-1.1.0.1371.macosx-x86_64/Canopy.app/Contents/lib/python27.zip',\n",
        " '/Applications/Canopy.app/appdata/canopy-1.1.0.1371.macosx-x86_64/Canopy.app/Contents/lib/python2.7',\n",
        " '/Applications/Canopy.app/appdata/canopy-1.1.0.1371.macosx-x86_64/Canopy.app/Contents/lib/python2.7/plat-darwin',\n",
        " '/Applications/Canopy.app/appdata/canopy-1.1.0.1371.macosx-x86_64/Canopy.app/Contents/lib/python2.7/plat-mac',\n",
        " '/Applications/Canopy.app/appdata/canopy-1.1.0.1371.macosx-x86_64/Canopy.app/Contents/lib/python2.7/plat-mac/lib-scriptpackages',\n",
        " '/Applications/Canopy.app/appdata/canopy-1.1.0.1371.macosx-x86_64/Canopy.app/Contents/lib/python2.7/lib-tk',\n",
        " '/Applications/Canopy.app/appdata/canopy-1.1.0.1371.macosx-x86_64/Canopy.app/Contents/lib/python2.7/lib-old',\n",
        " '/Applications/Canopy.app/appdata/canopy-1.1.0.1371.macosx-x86_64/Canopy.app/Contents/lib/python2.7/lib-dynload',\n",
        " '/Users/mikemcfarlane/Library/Enthought/Canopy_64bit/User/lib/python2.7/site-packages',\n",
        " '/Users/mikemcfarlane/Library/Enthought/Canopy_64bit/User/lib/python2.7/site-packages/PIL',\n",
        " '/Applications/Canopy.app/appdata/canopy-1.1.0.1371.macosx-x86_64/Canopy.app/Contents/lib/python2.7/site-packages',\n",
        " '/Users/mikemcfarlane/Library/Enthought/Canopy_64bit/User/lib/python2.7/site-packages/IPython/extensions']"
       ]
      }
     ],
     "prompt_number": 46
    },
    {
     "cell_type": "code",
     "collapsed": false,
     "input": [
      "import numpy as np\n",
      "print np.__doc__"
     ],
     "language": "python",
     "metadata": {},
     "outputs": [
      {
       "output_type": "stream",
       "stream": "stdout",
       "text": [
        "\n",
        "NumPy\n",
        "=====\n",
        "\n",
        "Provides\n",
        "  1. An array object of arbitrary homogeneous items\n",
        "  2. Fast mathematical operations over arrays\n",
        "  3. Linear Algebra, Fourier Transforms, Random Number Generation\n",
        "\n",
        "How to use the documentation\n",
        "----------------------------\n",
        "Documentation is available in two forms: docstrings provided\n",
        "with the code, and a loose standing reference guide, available from\n",
        "`the NumPy homepage <http://www.scipy.org>`_.\n",
        "\n",
        "We recommend exploring the docstrings using\n",
        "`IPython <http://ipython.scipy.org>`_, an advanced Python shell with\n",
        "TAB-completion and introspection capabilities.  See below for further\n",
        "instructions.\n",
        "\n",
        "The docstring examples assume that `numpy` has been imported as `np`::\n",
        "\n",
        "  >>> import numpy as np\n",
        "\n",
        "Code snippets are indicated by three greater-than signs::\n",
        "\n",
        "  >>> x = 42\n",
        "  >>> x = x + 1\n",
        "\n",
        "Use the built-in ``help`` function to view a function's docstring::\n",
        "\n",
        "  >>> help(np.sort)\n",
        "  ... # doctest: +SKIP\n",
        "\n",
        "For some objects, ``np.info(obj)`` may provide additional help.  This is\n",
        "particularly true if you see the line \"Help on ufunc object:\" at the top\n",
        "of the help() page.  Ufuncs are implemented in C, not Python, for speed.\n",
        "The native Python help() does not know how to view their help, but our\n",
        "np.info() function does.\n",
        "\n",
        "To search for documents containing a keyword, do::\n",
        "\n",
        "  >>> np.lookfor('keyword')\n",
        "  ... # doctest: +SKIP\n",
        "\n",
        "General-purpose documents like a glossary and help on the basic concepts\n",
        "of numpy are available under the ``doc`` sub-module::\n",
        "\n",
        "  >>> from numpy import doc\n",
        "  >>> help(doc)\n",
        "  ... # doctest: +SKIP\n",
        "\n",
        "Available subpackages\n",
        "---------------------\n",
        "doc\n",
        "    Topical documentation on broadcasting, indexing, etc.\n",
        "lib\n",
        "    Basic functions used by several sub-packages.\n",
        "random\n",
        "    Core Random Tools\n",
        "linalg\n",
        "    Core Linear Algebra Tools\n",
        "fft\n",
        "    Core FFT routines\n",
        "polynomial\n",
        "    Polynomial tools\n",
        "testing\n",
        "    Numpy testing tools\n",
        "f2py\n",
        "    Fortran to Python Interface Generator.\n",
        "distutils\n",
        "    Enhancements to distutils with support for\n",
        "    Fortran compilers support and more.\n",
        "\n",
        "Utilities\n",
        "---------\n",
        "test\n",
        "    Run numpy unittests\n",
        "show_config\n",
        "    Show numpy build configuration\n",
        "dual\n",
        "    Overwrite certain functions with high-performance Scipy tools\n",
        "matlib\n",
        "    Make everything matrices.\n",
        "__version__\n",
        "    Numpy version string\n",
        "\n",
        "Viewing documentation using IPython\n",
        "-----------------------------------\n",
        "Start IPython with the NumPy profile (``ipython -p numpy``), which will\n",
        "import `numpy` under the alias `np`.  Then, use the ``cpaste`` command to\n",
        "paste examples into the shell.  To see which functions are available in\n",
        "`numpy`, type ``np.<TAB>`` (where ``<TAB>`` refers to the TAB key), or use\n",
        "``np.*cos*?<ENTER>`` (where ``<ENTER>`` refers to the ENTER key) to narrow\n",
        "down the list.  To view the docstring for a function, use\n",
        "``np.cos?<ENTER>`` (to view the docstring) and ``np.cos??<ENTER>`` (to view\n",
        "the source code).\n",
        "\n",
        "Copies vs. in-place operation\n",
        "-----------------------------\n",
        "Most of the functions in `numpy` return a copy of the array argument\n",
        "(e.g., `np.sort`).  In-place versions of these functions are often\n",
        "available as array methods, i.e. ``x = np.array([1,2,3]); x.sort()``.\n",
        "Exceptions to this rule are documented.\n",
        "\n",
        "\n"
       ]
      }
     ],
     "prompt_number": 47
    },
    {
     "cell_type": "heading",
     "level": 1,
     "metadata": {},
     "source": [
      "Chapter 3 - Native Datatypes"
     ]
    },
    {
     "cell_type": "heading",
     "level": 2,
     "metadata": {},
     "source": [
      "Dictionaries"
     ]
    },
    {
     "cell_type": "code",
     "collapsed": false,
     "input": [
      "# dictionary\n",
      "d = {\"server\" : \"mpilgrim\", \"database\" : \"master\"}\n",
      "d"
     ],
     "language": "python",
     "metadata": {},
     "outputs": [
      {
       "output_type": "pyout",
       "prompt_number": 48,
       "text": [
        "{'database': 'master', 'server': 'mpilgrim'}"
       ]
      }
     ],
     "prompt_number": 48
    },
    {
     "cell_type": "code",
     "collapsed": false,
     "input": [
      "d[\"server\"]"
     ],
     "language": "python",
     "metadata": {},
     "outputs": [
      {
       "output_type": "pyout",
       "prompt_number": 49,
       "text": [
        "'mpilgrim'"
       ]
      }
     ],
     "prompt_number": 49
    },
    {
     "cell_type": "code",
     "collapsed": false,
     "input": [
      "d[\"mpilgrim\"]"
     ],
     "language": "python",
     "metadata": {},
     "outputs": [
      {
       "ename": "KeyError",
       "evalue": "'mpilgrim'",
       "output_type": "pyerr",
       "traceback": [
        "\u001b[0;31m---------------------------------------------------------------------------\u001b[0m\n\u001b[0;31mKeyError\u001b[0m                                  Traceback (most recent call last)",
        "\u001b[0;32m<ipython-input-50-55e1c8e1e8e7>\u001b[0m in \u001b[0;36m<module>\u001b[0;34m()\u001b[0m\n\u001b[0;32m----> 1\u001b[0;31m \u001b[0md\u001b[0m\u001b[0;34m[\u001b[0m\u001b[0;34m\"mpilgrim\"\u001b[0m\u001b[0;34m]\u001b[0m\u001b[0;34m\u001b[0m\u001b[0m\n\u001b[0m",
        "\u001b[0;31mKeyError\u001b[0m: 'mpilgrim'"
       ]
      }
     ],
     "prompt_number": 50
    },
    {
     "cell_type": "code",
     "collapsed": false,
     "input": [
      "d[\"database\"] = \"pubs\"\n",
      "d"
     ],
     "language": "python",
     "metadata": {},
     "outputs": [
      {
       "output_type": "pyout",
       "prompt_number": 51,
       "text": [
        "{'database': 'pubs', 'server': 'mpilgrim'}"
       ]
      }
     ],
     "prompt_number": 51
    },
    {
     "cell_type": "code",
     "collapsed": false,
     "input": [
      "d[\"uid\"] = \"sa\"\n",
      "d"
     ],
     "language": "python",
     "metadata": {},
     "outputs": [
      {
       "output_type": "pyout",
       "prompt_number": 52,
       "text": [
        "{'database': 'pubs', 'server': 'mpilgrim', 'uid': 'sa'}"
       ]
      }
     ],
     "prompt_number": 52
    },
    {
     "cell_type": "code",
     "collapsed": false,
     "input": [
      "# datatypes can be mixed in a dictionary\n",
      "d[\"retrycount\"] = 3\n",
      "d"
     ],
     "language": "python",
     "metadata": {},
     "outputs": [
      {
       "output_type": "pyout",
       "prompt_number": 53,
       "text": [
        "{'database': 'pubs', 'retrycount': 3, 'server': 'mpilgrim', 'uid': 'sa'}"
       ]
      }
     ],
     "prompt_number": 53
    },
    {
     "cell_type": "code",
     "collapsed": false,
     "input": [
      "del d[\"database\"]\n",
      "d"
     ],
     "language": "python",
     "metadata": {},
     "outputs": [
      {
       "output_type": "pyout",
       "prompt_number": 54,
       "text": [
        "{'retrycount': 3, 'server': 'mpilgrim', 'uid': 'sa'}"
       ]
      }
     ],
     "prompt_number": 54
    },
    {
     "cell_type": "code",
     "collapsed": false,
     "input": [
      "d.clear()\n",
      "d"
     ],
     "language": "python",
     "metadata": {},
     "outputs": []
    },
    {
     "cell_type": "heading",
     "level": 2,
     "metadata": {},
     "source": [
      "Lists"
     ]
    },
    {
     "cell_type": "code",
     "collapsed": false,
     "input": [
      "#list\n",
      "li = [\"a\", \"b\", \"mpilgrim\", \"z\", \"example\"]\n",
      "li"
     ],
     "language": "python",
     "metadata": {},
     "outputs": [
      {
       "output_type": "pyout",
       "prompt_number": 55,
       "text": [
        "['a', 'b', 'mpilgrim', 'z', 'example']"
       ]
      }
     ],
     "prompt_number": 55
    },
    {
     "cell_type": "code",
     "collapsed": false,
     "input": [
      "li[0]"
     ],
     "language": "python",
     "metadata": {},
     "outputs": [
      {
       "output_type": "pyout",
       "prompt_number": 56,
       "text": [
        "'a'"
       ]
      }
     ],
     "prompt_number": 56
    },
    {
     "cell_type": "code",
     "collapsed": false,
     "input": [
      "li[4]"
     ],
     "language": "python",
     "metadata": {},
     "outputs": [
      {
       "output_type": "pyout",
       "prompt_number": 57,
       "text": [
        "'example'"
       ]
      }
     ],
     "prompt_number": 57
    },
    {
     "cell_type": "code",
     "collapsed": false,
     "input": [
      "li[-1]"
     ],
     "language": "python",
     "metadata": {},
     "outputs": [
      {
       "output_type": "pyout",
       "prompt_number": 58,
       "text": [
        "'example'"
       ]
      }
     ],
     "prompt_number": 58
    },
    {
     "cell_type": "code",
     "collapsed": false,
     "input": [
      "li[-3]"
     ],
     "language": "python",
     "metadata": {},
     "outputs": [
      {
       "output_type": "pyout",
       "prompt_number": 59,
       "text": [
        "'mpilgrim'"
       ]
      }
     ],
     "prompt_number": 59
    },
    {
     "cell_type": "code",
     "collapsed": false,
     "input": [
      "# list slices\n",
      "li[1:3]"
     ],
     "language": "python",
     "metadata": {},
     "outputs": [
      {
       "output_type": "pyout",
       "prompt_number": 60,
       "text": [
        "['b', 'mpilgrim']"
       ]
      }
     ],
     "prompt_number": 60
    },
    {
     "cell_type": "code",
     "collapsed": false,
     "input": [
      "li[1:-1]"
     ],
     "language": "python",
     "metadata": {},
     "outputs": [
      {
       "output_type": "pyout",
       "prompt_number": 61,
       "text": [
        "['b', 'mpilgrim', 'z']"
       ]
      }
     ],
     "prompt_number": 61
    },
    {
     "cell_type": "code",
     "collapsed": false,
     "input": [
      "li[0:3]"
     ],
     "language": "python",
     "metadata": {},
     "outputs": [
      {
       "output_type": "pyout",
       "prompt_number": 62,
       "text": [
        "['a', 'b', 'mpilgrim']"
       ]
      }
     ],
     "prompt_number": 62
    },
    {
     "cell_type": "code",
     "collapsed": false,
     "input": [
      "li[:3]"
     ],
     "language": "python",
     "metadata": {},
     "outputs": [
      {
       "output_type": "pyout",
       "prompt_number": 63,
       "text": [
        "['a', 'b', 'mpilgrim']"
       ]
      }
     ],
     "prompt_number": 63
    },
    {
     "cell_type": "code",
     "collapsed": false,
     "input": [
      "li[3:]"
     ],
     "language": "python",
     "metadata": {},
     "outputs": [
      {
       "output_type": "pyout",
       "prompt_number": 64,
       "text": [
        "['z', 'example']"
       ]
      }
     ],
     "prompt_number": 64
    },
    {
     "cell_type": "code",
     "collapsed": false,
     "input": [
      "li[:]"
     ],
     "language": "python",
     "metadata": {},
     "outputs": [
      {
       "output_type": "pyout",
       "prompt_number": 65,
       "text": [
        "['a', 'b', 'mpilgrim', 'z', 'example']"
       ]
      }
     ],
     "prompt_number": 65
    },
    {
     "cell_type": "code",
     "collapsed": false,
     "input": [
      "# adding elements to a list\n",
      "li.append(\"new\")\n",
      "li"
     ],
     "language": "python",
     "metadata": {},
     "outputs": [
      {
       "output_type": "pyout",
       "prompt_number": 66,
       "text": [
        "['a', 'b', 'mpilgrim', 'z', 'example', 'new']"
       ]
      }
     ],
     "prompt_number": 66
    },
    {
     "cell_type": "code",
     "collapsed": false,
     "input": [
      "li.insert(2, \"new\")\n",
      "li"
     ],
     "language": "python",
     "metadata": {},
     "outputs": [
      {
       "output_type": "pyout",
       "prompt_number": 67,
       "text": [
        "['a', 'b', 'new', 'mpilgrim', 'z', 'example', 'new']"
       ]
      }
     ],
     "prompt_number": 67
    },
    {
     "cell_type": "code",
     "collapsed": false,
     "input": [
      "li.extend([\"two\", \"elements\"])\n",
      "li"
     ],
     "language": "python",
     "metadata": {},
     "outputs": [
      {
       "output_type": "pyout",
       "prompt_number": 68,
       "text": [
        "['a', 'b', 'new', 'mpilgrim', 'z', 'example', 'new', 'two', 'elements']"
       ]
      }
     ],
     "prompt_number": 68
    },
    {
     "cell_type": "code",
     "collapsed": false,
     "input": [
      "li.append([\"two more\", \"elements\"])\n",
      "li"
     ],
     "language": "python",
     "metadata": {},
     "outputs": [
      {
       "output_type": "pyout",
       "prompt_number": 69,
       "text": [
        "['a',\n",
        " 'b',\n",
        " 'new',\n",
        " 'mpilgrim',\n",
        " 'z',\n",
        " 'example',\n",
        " 'new',\n",
        " 'two',\n",
        " 'elements',\n",
        " ['two more', 'elements']]"
       ]
      }
     ],
     "prompt_number": 69
    },
    {
     "cell_type": "code",
     "collapsed": false,
     "input": [
      "# searching lists\n",
      "li.index(\"example\")"
     ],
     "language": "python",
     "metadata": {},
     "outputs": [
      {
       "output_type": "pyout",
       "prompt_number": 70,
       "text": [
        "5"
       ]
      }
     ],
     "prompt_number": 70
    },
    {
     "cell_type": "code",
     "collapsed": false,
     "input": [
      "# index finds the first instance\n",
      "li.index(\"new\")"
     ],
     "language": "python",
     "metadata": {},
     "outputs": [
      {
       "output_type": "pyout",
       "prompt_number": 71,
       "text": [
        "2"
       ]
      }
     ],
     "prompt_number": 71
    },
    {
     "cell_type": "code",
     "collapsed": false,
     "input": [
      "li.index(\"bob\")"
     ],
     "language": "python",
     "metadata": {},
     "outputs": [
      {
       "ename": "ValueError",
       "evalue": "'bob' is not in list",
       "output_type": "pyerr",
       "traceback": [
        "\u001b[0;31m---------------------------------------------------------------------------\u001b[0m\n\u001b[0;31mValueError\u001b[0m                                Traceback (most recent call last)",
        "\u001b[0;32m<ipython-input-72-c4419e1f7264>\u001b[0m in \u001b[0;36m<module>\u001b[0;34m()\u001b[0m\n\u001b[0;32m----> 1\u001b[0;31m \u001b[0mli\u001b[0m\u001b[0;34m.\u001b[0m\u001b[0mindex\u001b[0m\u001b[0;34m(\u001b[0m\u001b[0;34m\"bob\"\u001b[0m\u001b[0;34m)\u001b[0m\u001b[0;34m\u001b[0m\u001b[0m\n\u001b[0m",
        "\u001b[0;31mValueError\u001b[0m: 'bob' is not in list"
       ]
      }
     ],
     "prompt_number": 72
    },
    {
     "cell_type": "code",
     "collapsed": false,
     "input": [
      "# deleting list elements\n",
      "li\n",
      "#li.insert(4, \"z\")\n",
      "li.remove(\"z\")\n",
      "li"
     ],
     "language": "python",
     "metadata": {},
     "outputs": [
      {
       "output_type": "pyout",
       "prompt_number": 78,
       "text": [
        "['a',\n",
        " 'b',\n",
        " 'new',\n",
        " 'mpilgrim',\n",
        " 'example',\n",
        " 'new',\n",
        " 'two',\n",
        " 'elements',\n",
        " ['two more', 'elements']]"
       ]
      }
     ],
     "prompt_number": 78
    },
    {
     "cell_type": "code",
     "collapsed": false,
     "input": [
      "li.remove(\"new\")\n",
      "li"
     ],
     "language": "python",
     "metadata": {},
     "outputs": [
      {
       "output_type": "pyout",
       "prompt_number": 79,
       "text": [
        "['a',\n",
        " 'b',\n",
        " 'mpilgrim',\n",
        " 'example',\n",
        " 'new',\n",
        " 'two',\n",
        " 'elements',\n",
        " ['two more', 'elements']]"
       ]
      }
     ],
     "prompt_number": 79
    },
    {
     "cell_type": "code",
     "collapsed": false,
     "input": [
      "li.remove(\"bob\")\n",
      "li"
     ],
     "language": "python",
     "metadata": {},
     "outputs": [
      {
       "ename": "ValueError",
       "evalue": "list.remove(x): x not in list",
       "output_type": "pyerr",
       "traceback": [
        "\u001b[0;31m---------------------------------------------------------------------------\u001b[0m\n\u001b[0;31mValueError\u001b[0m                                Traceback (most recent call last)",
        "\u001b[0;32m<ipython-input-80-d632a7ef6673>\u001b[0m in \u001b[0;36m<module>\u001b[0;34m()\u001b[0m\n\u001b[0;32m----> 1\u001b[0;31m \u001b[0mli\u001b[0m\u001b[0;34m.\u001b[0m\u001b[0mremove\u001b[0m\u001b[0;34m(\u001b[0m\u001b[0;34m\"bob\"\u001b[0m\u001b[0;34m)\u001b[0m\u001b[0;34m\u001b[0m\u001b[0m\n\u001b[0m\u001b[1;32m      2\u001b[0m \u001b[0mli\u001b[0m\u001b[0;34m\u001b[0m\u001b[0m\n",
        "\u001b[0;31mValueError\u001b[0m: list.remove(x): x not in list"
       ]
      }
     ],
     "prompt_number": 80
    },
    {
     "cell_type": "code",
     "collapsed": false,
     "input": [
      "# pop the last element from the end of the list, and get it\n",
      "li.pop()"
     ],
     "language": "python",
     "metadata": {},
     "outputs": [
      {
       "output_type": "pyout",
       "prompt_number": 81,
       "text": [
        "['two more', 'elements']"
       ]
      }
     ],
     "prompt_number": 81
    },
    {
     "cell_type": "code",
     "collapsed": false,
     "input": [
      "li"
     ],
     "language": "python",
     "metadata": {},
     "outputs": [
      {
       "output_type": "pyout",
       "prompt_number": 82,
       "text": [
        "['a', 'b', 'mpilgrim', 'example', 'new', 'two', 'elements']"
       ]
      }
     ],
     "prompt_number": 82
    },
    {
     "cell_type": "code",
     "collapsed": false,
     "input": [
      "# list operators\n",
      "li = ['a', 'b', 'mpilgrim']\n",
      "li"
     ],
     "language": "python",
     "metadata": {},
     "outputs": [
      {
       "output_type": "pyout",
       "prompt_number": 84,
       "text": [
        "['a', 'b', 'mpilgrim']"
       ]
      }
     ],
     "prompt_number": 84
    },
    {
     "cell_type": "code",
     "collapsed": false,
     "input": [
      "# the + operator concatentates the two lists to create a new one\n",
      "# whereas extend, extends the existing list\n",
      "li = li + ['example', 'new']\n",
      "li"
     ],
     "language": "python",
     "metadata": {},
     "outputs": [
      {
       "output_type": "pyout",
       "prompt_number": 85,
       "text": [
        "['a', 'b', 'mpilgrim', 'example', 'new']"
       ]
      }
     ],
     "prompt_number": 85
    },
    {
     "cell_type": "code",
     "collapsed": false,
     "input": [
      "li += ['two']\n",
      "li"
     ],
     "language": "python",
     "metadata": {},
     "outputs": [
      {
       "output_type": "pyout",
       "prompt_number": 86,
       "text": [
        "['a', 'b', 'mpilgrim', 'example', 'new', 'two']"
       ]
      }
     ],
     "prompt_number": 86
    },
    {
     "cell_type": "code",
     "collapsed": false,
     "input": [
      "li = [1, 2] * 3\n",
      "li"
     ],
     "language": "python",
     "metadata": {},
     "outputs": [
      {
       "output_type": "pyout",
       "prompt_number": 87,
       "text": [
        "[1, 2, 1, 2, 1, 2]"
       ]
      }
     ],
     "prompt_number": 87
    },
    {
     "cell_type": "heading",
     "level": 2,
     "metadata": {},
     "source": [
      "Tuples"
     ]
    },
    {
     "cell_type": "code",
     "collapsed": false,
     "input": [
      "# tuples are immutable lists, they are fast, and good for data constants\n",
      "t = (\"a\", \"b\", \"mpilgrim\", \"z\", \"example\")\n",
      "t"
     ],
     "language": "python",
     "metadata": {},
     "outputs": [
      {
       "output_type": "pyout",
       "prompt_number": 88,
       "text": [
        "('a', 'b', 'mpilgrim', 'z', 'example')"
       ]
      }
     ],
     "prompt_number": 88
    },
    {
     "cell_type": "code",
     "collapsed": false,
     "input": [
      "t[0]"
     ],
     "language": "python",
     "metadata": {},
     "outputs": [
      {
       "output_type": "pyout",
       "prompt_number": 89,
       "text": [
        "'a'"
       ]
      }
     ],
     "prompt_number": 89
    },
    {
     "cell_type": "code",
     "collapsed": false,
     "input": [
      "t[-1]"
     ],
     "language": "python",
     "metadata": {},
     "outputs": [
      {
       "output_type": "pyout",
       "prompt_number": 90,
       "text": [
        "'example'"
       ]
      }
     ],
     "prompt_number": 90
    },
    {
     "cell_type": "code",
     "collapsed": false,
     "input": [
      "t[1:3]"
     ],
     "language": "python",
     "metadata": {},
     "outputs": [
      {
       "output_type": "pyout",
       "prompt_number": 91,
       "text": [
        "('b', 'mpilgrim')"
       ]
      }
     ],
     "prompt_number": 91
    },
    {
     "cell_type": "code",
     "collapsed": false,
     "input": [
      "t"
     ],
     "language": "python",
     "metadata": {},
     "outputs": [
      {
       "output_type": "pyout",
       "prompt_number": 92,
       "text": [
        "('a', 'b', 'mpilgrim', 'z', 'example')"
       ]
      }
     ],
     "prompt_number": 92
    },
    {
     "cell_type": "code",
     "collapsed": false,
     "input": [
      "# tuples have no methods\n",
      "t.append(\"new\")"
     ],
     "language": "python",
     "metadata": {},
     "outputs": [
      {
       "ename": "AttributeError",
       "evalue": "'tuple' object has no attribute 'append'",
       "output_type": "pyerr",
       "traceback": [
        "\u001b[0;31m---------------------------------------------------------------------------\u001b[0m\n\u001b[0;31mAttributeError\u001b[0m                            Traceback (most recent call last)",
        "\u001b[0;32m<ipython-input-93-8694821570b7>\u001b[0m in \u001b[0;36m<module>\u001b[0;34m()\u001b[0m\n\u001b[1;32m      1\u001b[0m \u001b[0;31m# tuples have no methods\u001b[0m\u001b[0;34m\u001b[0m\u001b[0;34m\u001b[0m\u001b[0m\n\u001b[0;32m----> 2\u001b[0;31m \u001b[0mt\u001b[0m\u001b[0;34m.\u001b[0m\u001b[0mappend\u001b[0m\u001b[0;34m(\u001b[0m\u001b[0;34m\"new\"\u001b[0m\u001b[0;34m)\u001b[0m\u001b[0;34m\u001b[0m\u001b[0m\n\u001b[0m",
        "\u001b[0;31mAttributeError\u001b[0m: 'tuple' object has no attribute 'append'"
       ]
      }
     ],
     "prompt_number": 93
    },
    {
     "cell_type": "code",
     "collapsed": false,
     "input": [
      "t.remove(\"a\")"
     ],
     "language": "python",
     "metadata": {},
     "outputs": [
      {
       "ename": "AttributeError",
       "evalue": "'tuple' object has no attribute 'remove'",
       "output_type": "pyerr",
       "traceback": [
        "\u001b[0;31m---------------------------------------------------------------------------\u001b[0m\n\u001b[0;31mAttributeError\u001b[0m                            Traceback (most recent call last)",
        "\u001b[0;32m<ipython-input-94-b170d33397e9>\u001b[0m in \u001b[0;36m<module>\u001b[0;34m()\u001b[0m\n\u001b[0;32m----> 1\u001b[0;31m \u001b[0mt\u001b[0m\u001b[0;34m.\u001b[0m\u001b[0mremove\u001b[0m\u001b[0;34m(\u001b[0m\u001b[0;34m\"a\"\u001b[0m\u001b[0;34m)\u001b[0m\u001b[0;34m\u001b[0m\u001b[0m\n\u001b[0m",
        "\u001b[0;31mAttributeError\u001b[0m: 'tuple' object has no attribute 'remove'"
       ]
      }
     ],
     "prompt_number": 94
    },
    {
     "cell_type": "code",
     "collapsed": false,
     "input": [
      "t.index(\"a\")"
     ],
     "language": "python",
     "metadata": {},
     "outputs": [
      {
       "output_type": "pyout",
       "prompt_number": 95,
       "text": [
        "0"
       ]
      }
     ],
     "prompt_number": 95
    },
    {
     "cell_type": "code",
     "collapsed": false,
     "input": [
      "\"a\" in t"
     ],
     "language": "python",
     "metadata": {},
     "outputs": [
      {
       "output_type": "pyout",
       "prompt_number": 96,
       "text": [
        "True"
       ]
      }
     ],
     "prompt_number": 96
    },
    {
     "cell_type": "code",
     "collapsed": false,
     "input": [
      "# lists can be created from tuples with 'list' function, and tuples from lists with 'tuple'.\n",
      "u = list(t)\n",
      "u"
     ],
     "language": "python",
     "metadata": {},
     "outputs": [
      {
       "output_type": "pyout",
       "prompt_number": 97,
       "text": [
        "['a', 'b', 'mpilgrim', 'z', 'example']"
       ]
      }
     ],
     "prompt_number": 97
    },
    {
     "cell_type": "code",
     "collapsed": false,
     "input": [
      "u.remove(\"a\")\n",
      "u"
     ],
     "language": "python",
     "metadata": {},
     "outputs": [
      {
       "output_type": "pyout",
       "prompt_number": 98,
       "text": [
        "['b', 'mpilgrim', 'z', 'example']"
       ]
      }
     ],
     "prompt_number": 98
    },
    {
     "cell_type": "heading",
     "level": 2,
     "metadata": {},
     "source": [
      "Variables"
     ]
    },
    {
     "cell_type": "code",
     "collapsed": false,
     "input": [
      "i"
     ],
     "language": "python",
     "metadata": {},
     "outputs": [
      {
       "ename": "NameError",
       "evalue": "name 'i' is not defined",
       "output_type": "pyerr",
       "traceback": [
        "\u001b[0;31m---------------------------------------------------------------------------\u001b[0m\n\u001b[0;31mNameError\u001b[0m                                 Traceback (most recent call last)",
        "\u001b[0;32m<ipython-input-104-372e25f23b5a>\u001b[0m in \u001b[0;36m<module>\u001b[0;34m()\u001b[0m\n\u001b[0;32m----> 1\u001b[0;31m \u001b[0mi\u001b[0m\u001b[0;34m\u001b[0m\u001b[0m\n\u001b[0m",
        "\u001b[0;31mNameError\u001b[0m: name 'i' is not defined"
       ]
      }
     ],
     "prompt_number": 104
    },
    {
     "cell_type": "code",
     "collapsed": false,
     "input": [
      "i = 1\n",
      "i"
     ],
     "language": "python",
     "metadata": {},
     "outputs": [
      {
       "output_type": "pyout",
       "prompt_number": 105,
       "text": [
        "1"
       ]
      }
     ],
     "prompt_number": 105
    },
    {
     "cell_type": "code",
     "collapsed": false,
     "input": [
      "v = ('a', 'b', 'c')\n",
      "v"
     ],
     "language": "python",
     "metadata": {},
     "outputs": [
      {
       "output_type": "pyout",
       "prompt_number": 106,
       "text": [
        "('a', 'b', 'c')"
       ]
      }
     ],
     "prompt_number": 106
    },
    {
     "cell_type": "code",
     "collapsed": false,
     "input": [
      "# assign multiple variables at once\n",
      "(x, y, z) = v\n",
      "v"
     ],
     "language": "python",
     "metadata": {},
     "outputs": [
      {
       "output_type": "pyout",
       "prompt_number": 108,
       "text": [
        "('a', 'b', 'c')"
       ]
      }
     ],
     "prompt_number": 108
    },
    {
     "cell_type": "code",
     "collapsed": false,
     "input": [
      "x"
     ],
     "language": "python",
     "metadata": {},
     "outputs": [
      {
       "output_type": "pyout",
       "prompt_number": 109,
       "text": [
        "'a'"
       ]
      }
     ],
     "prompt_number": 109
    },
    {
     "cell_type": "code",
     "collapsed": false,
     "input": [
      "y"
     ],
     "language": "python",
     "metadata": {},
     "outputs": [
      {
       "output_type": "pyout",
       "prompt_number": 110,
       "text": [
        "'b'"
       ]
      }
     ],
     "prompt_number": 110
    },
    {
     "cell_type": "code",
     "collapsed": false,
     "input": [
      "z"
     ],
     "language": "python",
     "metadata": {},
     "outputs": [
      {
       "output_type": "pyout",
       "prompt_number": 111,
       "text": [
        "'c'"
       ]
      }
     ],
     "prompt_number": 111
    },
    {
     "cell_type": "code",
     "collapsed": false,
     "input": [
      "# assign consecutive variables\n",
      "range(7)"
     ],
     "language": "python",
     "metadata": {},
     "outputs": [
      {
       "output_type": "pyout",
       "prompt_number": 112,
       "text": [
        "[0, 1, 2, 3, 4, 5, 6]"
       ]
      }
     ],
     "prompt_number": 112
    },
    {
     "cell_type": "code",
     "collapsed": false,
     "input": [
      "(MON, TUE, WED, THU, FRI, SAT, SUN) = range(7)\n",
      "MON"
     ],
     "language": "python",
     "metadata": {},
     "outputs": [
      {
       "output_type": "pyout",
       "prompt_number": 113,
       "text": [
        "0"
       ]
      }
     ],
     "prompt_number": 113
    },
    {
     "cell_type": "code",
     "collapsed": false,
     "input": [
      "SAT"
     ],
     "language": "python",
     "metadata": {},
     "outputs": [
      {
       "output_type": "pyout",
       "prompt_number": 115,
       "text": [
        "5"
       ]
      }
     ],
     "prompt_number": 115
    },
    {
     "cell_type": "heading",
     "level": 2,
     "metadata": {},
     "source": [
      "Formatting strings"
     ]
    },
    {
     "cell_type": "code",
     "collapsed": false,
     "input": [
      "k = \"uid\"\n",
      "v = \"sa\"\n",
      "\"%s = %s\" % (k, v)"
     ],
     "language": "python",
     "metadata": {},
     "outputs": [
      {
       "output_type": "pyout",
       "prompt_number": 116,
       "text": [
        "'uid = sa'"
       ]
      }
     ],
     "prompt_number": 116
    },
    {
     "cell_type": "code",
     "collapsed": false,
     "input": [
      "uid = \"sa\"\n",
      "pwd = \"secret\"\n",
      "print pwd + \" is not a good password for \" + uid"
     ],
     "language": "python",
     "metadata": {},
     "outputs": [
      {
       "output_type": "stream",
       "stream": "stdout",
       "text": [
        "secret is not a good password for sa\n"
       ]
      }
     ],
     "prompt_number": 117
    },
    {
     "cell_type": "code",
     "collapsed": false,
     "input": [
      "print \"%s is not a good password for %s\" % (pwd, uid)"
     ],
     "language": "python",
     "metadata": {},
     "outputs": [
      {
       "output_type": "stream",
       "stream": "stdout",
       "text": [
        "secret is not a good password for sa\n"
       ]
      }
     ],
     "prompt_number": 118
    },
    {
     "cell_type": "code",
     "collapsed": false,
     "input": [
      "userCount = 6\n",
      "print \"Users connected: %d\" % (userCount, )"
     ],
     "language": "python",
     "metadata": {},
     "outputs": [
      {
       "output_type": "stream",
       "stream": "stdout",
       "text": [
        "Users connected: 6\n"
       ]
      }
     ],
     "prompt_number": 119
    },
    {
     "cell_type": "code",
     "collapsed": false,
     "input": [
      "print \"Users connected: \" + userCount"
     ],
     "language": "python",
     "metadata": {},
     "outputs": [
      {
       "ename": "TypeError",
       "evalue": "cannot concatenate 'str' and 'int' objects",
       "output_type": "pyerr",
       "traceback": [
        "\u001b[0;31m---------------------------------------------------------------------------\u001b[0m\n\u001b[0;31mTypeError\u001b[0m                                 Traceback (most recent call last)",
        "\u001b[0;32m<ipython-input-120-be2e27f72c6d>\u001b[0m in \u001b[0;36m<module>\u001b[0;34m()\u001b[0m\n\u001b[0;32m----> 1\u001b[0;31m \u001b[0;32mprint\u001b[0m \u001b[0;34m\"Users connected: \"\u001b[0m \u001b[0;34m+\u001b[0m \u001b[0muserCount\u001b[0m\u001b[0;34m\u001b[0m\u001b[0m\n\u001b[0m",
        "\u001b[0;31mTypeError\u001b[0m: cannot concatenate 'str' and 'int' objects"
       ]
      }
     ],
     "prompt_number": 120
    },
    {
     "cell_type": "code",
     "collapsed": false,
     "input": [
      "# formatting numbers\n",
      "print \"The stock price is: %f\" % 50.4625"
     ],
     "language": "python",
     "metadata": {},
     "outputs": [
      {
       "output_type": "stream",
       "stream": "stdout",
       "text": [
        "The stock price is: 50.462500\n"
       ]
      }
     ],
     "prompt_number": 121
    },
    {
     "cell_type": "code",
     "collapsed": false,
     "input": [
      "print \"The stock price is: %.2f\" % 50.4625"
     ],
     "language": "python",
     "metadata": {},
     "outputs": [
      {
       "output_type": "stream",
       "stream": "stdout",
       "text": [
        "The stock price is: 50.46\n"
       ]
      }
     ],
     "prompt_number": 122
    },
    {
     "cell_type": "code",
     "collapsed": false,
     "input": [
      "print \"The stock price change is: %+.2f\" % -4.6454"
     ],
     "language": "python",
     "metadata": {},
     "outputs": [
      {
       "output_type": "stream",
       "stream": "stdout",
       "text": [
        "The stock price change is: -4.65\n"
       ]
      }
     ],
     "prompt_number": 124
    },
    {
     "cell_type": "heading",
     "level": 2,
     "metadata": {},
     "source": [
      "Mapping lists or List comprehensions"
     ]
    },
    {
     "cell_type": "code",
     "collapsed": false,
     "input": [
      "# list comprehension\n",
      "li = [1, 9, 8, 4]\n",
      "[elem*2 for elem in li]"
     ],
     "language": "python",
     "metadata": {},
     "outputs": [
      {
       "output_type": "pyout",
       "prompt_number": 125,
       "text": [
        "[2, 18, 16, 8]"
       ]
      }
     ],
     "prompt_number": 125
    },
    {
     "cell_type": "code",
     "collapsed": false,
     "input": [
      "li"
     ],
     "language": "python",
     "metadata": {},
     "outputs": [
      {
       "output_type": "pyout",
       "prompt_number": 126,
       "text": [
        "[1, 9, 8, 4]"
       ]
      }
     ],
     "prompt_number": 126
    },
    {
     "cell_type": "code",
     "collapsed": false,
     "input": [
      "li = [elem * 2 for elem in li]\n",
      "li"
     ],
     "language": "python",
     "metadata": {},
     "outputs": [
      {
       "output_type": "pyout",
       "prompt_number": 127,
       "text": [
        "[2, 18, 16, 8]"
       ]
      }
     ],
     "prompt_number": 127
    },
    {
     "cell_type": "code",
     "collapsed": false,
     "input": [
      "# dictionary comprehension\n",
      "dict = {\"bob\" : \"man\", \"sam\" : \"woman\", \"bingo\" : \"dog\"}\n",
      "dict.items()"
     ],
     "language": "python",
     "metadata": {},
     "outputs": [
      {
       "output_type": "pyout",
       "prompt_number": 130,
       "text": [
        "[('bingo', 'dog'), ('bob', 'man'), ('sam', 'woman')]"
       ]
      }
     ],
     "prompt_number": 130
    },
    {
     "cell_type": "code",
     "collapsed": false,
     "input": [
      "[\"%s is a %s\" %(i, j) for i, j in dict.items()]"
     ],
     "language": "python",
     "metadata": {},
     "outputs": [
      {
       "output_type": "pyout",
       "prompt_number": 134,
       "text": [
        "['bingo is a dog', 'bob is a man', 'sam is a woman']"
       ]
      }
     ],
     "prompt_number": 134
    },
    {
     "cell_type": "code",
     "collapsed": false,
     "input": [
      "newList = [\"%s is a %s\" %(i, j) for i, j in dict.items()]\n",
      "newList[0]"
     ],
     "language": "python",
     "metadata": {},
     "outputs": [
      {
       "output_type": "pyout",
       "prompt_number": 136,
       "text": [
        "'bingo is a dog'"
       ]
      }
     ],
     "prompt_number": 136
    },
    {
     "cell_type": "code",
     "collapsed": false,
     "input": [
      "# some dictionary functions\n",
      "dict.keys()"
     ],
     "language": "python",
     "metadata": {},
     "outputs": [
      {
       "output_type": "pyout",
       "prompt_number": 137,
       "text": [
        "['bingo', 'bob', 'sam']"
       ]
      }
     ],
     "prompt_number": 137
    },
    {
     "cell_type": "code",
     "collapsed": false,
     "input": [
      "dict.values()"
     ],
     "language": "python",
     "metadata": {},
     "outputs": [
      {
       "output_type": "pyout",
       "prompt_number": 138,
       "text": [
        "['dog', 'man', 'woman']"
       ]
      }
     ],
     "prompt_number": 138
    },
    {
     "cell_type": "code",
     "collapsed": false,
     "input": [
      "dict.items()"
     ],
     "language": "python",
     "metadata": {},
     "outputs": [
      {
       "output_type": "pyout",
       "prompt_number": 139,
       "text": [
        "[('bingo', 'dog'), ('bob', 'man'), ('sam', 'woman')]"
       ]
      }
     ],
     "prompt_number": 139
    },
    {
     "cell_type": "code",
     "collapsed": false,
     "input": [
      "# or to make a string with list comprehensions\n",
      "myString = \", \".join([\"%s is a %s\" %(i, j) for i, j in dict.items()])\n",
      "print myString"
     ],
     "language": "python",
     "metadata": {},
     "outputs": [
      {
       "output_type": "stream",
       "stream": "stdout",
       "text": [
        "bingo is a dog, bob is a man, sam is a woman\n"
       ]
      }
     ],
     "prompt_number": 142
    },
    {
     "cell_type": "code",
     "collapsed": false,
     "input": [
      "# then split the string into a list!\n",
      "myNewList = myString.split(\", \")\n",
      "myNewList[1]"
     ],
     "language": "python",
     "metadata": {},
     "outputs": [
      {
       "output_type": "pyout",
       "prompt_number": 144,
       "text": [
        "'bob is a man'"
       ]
      }
     ],
     "prompt_number": 144
    },
    {
     "cell_type": "heading",
     "level": 1,
     "metadata": {},
     "source": [
      "Chapter 4 - The power of introspection"
     ]
    },
    {
     "cell_type": "code",
     "collapsed": false,
     "input": [
      "def info(object, spacing = 10, collapse = 1):\n",
      "    \"\"\"Print methods and doc strings.\n",
      "    \n",
      "    Take module, class, list, dictionary, or string.\"\"\"\n",
      "    methodList = [method for method in dir(object) if callable(getattr(object, method))]\n",
      "    processFunc = collapse and (lambda s: \" \".join(s.split())) or (lambda s: s)\n",
      "    print \"\\n\".join([\"%s %s\" % \n",
      "                    (method.ljust(spacing), \n",
      "                    processFunc(str(getattr(object, method).__doc__)))\n",
      "                    for method in methodList])\n",
      "\n",
      "if __name__ == \"__main__\":\n",
      "    print info.__doc__"
     ],
     "language": "python",
     "metadata": {},
     "outputs": [
      {
       "output_type": "stream",
       "stream": "stdout",
       "text": [
        "Print methods and doc strings.\n",
        "    \n",
        "    Take module, class, list, dictionary, or string.\n"
       ]
      }
     ],
     "prompt_number": 59
    },
    {
     "cell_type": "code",
     "collapsed": false,
     "input": [
      "li = []\n",
      "info(li)"
     ],
     "language": "python",
     "metadata": {},
     "outputs": [
      {
       "output_type": "stream",
       "stream": "stdout",
       "text": [
        "__add__    x.__add__(y) <==> x+y\n",
        "__class__  list() -> new empty list list(iterable) -> new list initialized from iterable's items\n",
        "__contains__ x.__contains__(y) <==> y in x\n",
        "__delattr__ x.__delattr__('name') <==> del x.name\n",
        "__delitem__ x.__delitem__(y) <==> del x[y]\n",
        "__delslice__ x.__delslice__(i, j) <==> del x[i:j] Use of negative indices is not supported.\n",
        "__eq__     x.__eq__(y) <==> x==y\n",
        "__format__ default object formatter\n",
        "__ge__     x.__ge__(y) <==> x>=y\n",
        "__getattribute__ x.__getattribute__('name') <==> x.name\n",
        "__getitem__ x.__getitem__(y) <==> x[y]\n",
        "__getslice__ x.__getslice__(i, j) <==> x[i:j] Use of negative indices is not supported.\n",
        "__gt__     x.__gt__(y) <==> x>y\n",
        "__iadd__   x.__iadd__(y) <==> x+=y\n",
        "__imul__   x.__imul__(y) <==> x*=y\n",
        "__init__   x.__init__(...) initializes x; see help(type(x)) for signature\n",
        "__iter__   x.__iter__() <==> iter(x)\n",
        "__le__     x.__le__(y) <==> x<=y\n",
        "__len__    x.__len__() <==> len(x)\n",
        "__lt__     x.__lt__(y) <==> x<y\n",
        "__mul__    x.__mul__(n) <==> x*n\n",
        "__ne__     x.__ne__(y) <==> x!=y\n",
        "__new__    T.__new__(S, ...) -> a new object with type S, a subtype of T\n",
        "__reduce__ helper for pickle\n",
        "__reduce_ex__ helper for pickle\n",
        "__repr__   x.__repr__() <==> repr(x)\n",
        "__reversed__ L.__reversed__() -- return a reverse iterator over the list\n",
        "__rmul__   x.__rmul__(n) <==> n*x\n",
        "__setattr__ x.__setattr__('name', value) <==> x.name = value\n",
        "__setitem__ x.__setitem__(i, y) <==> x[i]=y\n",
        "__setslice__ x.__setslice__(i, j, y) <==> x[i:j]=y Use of negative indices is not supported.\n",
        "__sizeof__ L.__sizeof__() -- size of L in memory, in bytes\n",
        "__str__    x.__str__() <==> str(x)\n",
        "__subclasshook__ Abstract classes can override this to customize issubclass(). This is invoked early on by abc.ABCMeta.__subclasscheck__(). It should return True, False or NotImplemented. If it returns NotImplemented, the normal algorithm is used. Otherwise, it overrides the normal algorithm (and the outcome is cached).\n",
        "append     L.append(object) -- append object to end\n",
        "count      L.count(value) -> integer -- return number of occurrences of value\n",
        "extend     L.extend(iterable) -- extend list by appending elements from the iterable\n",
        "index      L.index(value, [start, [stop]]) -> integer -- return first index of value. Raises ValueError if the value is not present.\n",
        "insert     L.insert(index, object) -- insert object before index\n",
        "pop        L.pop([index]) -> item -- remove and return item at index (default last). Raises IndexError if list is empty or index is out of range.\n",
        "remove     L.remove(value) -- remove first occurrence of value. Raises ValueError if the value is not present.\n",
        "reverse    L.reverse() -- reverse *IN PLACE*\n",
        "sort       L.sort(cmp=None, key=None, reverse=False) -- stable sort *IN PLACE*; cmp(x, y) -> -1, 0, 1\n"
       ]
      }
     ],
     "prompt_number": 21
    },
    {
     "cell_type": "code",
     "collapsed": false,
     "input": [
      "import odbchelper\n",
      "dir(odbchelper)"
     ],
     "language": "python",
     "metadata": {},
     "outputs": [
      {
       "output_type": "pyout",
       "prompt_number": 22,
       "text": [
        "['__builtins__',\n",
        " '__doc__',\n",
        " '__file__',\n",
        " '__name__',\n",
        " '__package__',\n",
        " 'buildConnectionString',\n",
        " 'fib']"
       ]
      }
     ],
     "prompt_number": 22
    },
    {
     "cell_type": "code",
     "collapsed": false,
     "input": [
      "info(odbchelper)"
     ],
     "language": "python",
     "metadata": {},
     "outputs": [
      {
       "output_type": "stream",
       "stream": "stdout",
       "text": [
        "buildConnectionString Build a connection string from a dictionary of parameters. Returns string.\n",
        "fib        Prints the Fibonacci series. Returns the Fibonacci series.\n"
       ]
      }
     ],
     "prompt_number": 23
    },
    {
     "cell_type": "code",
     "collapsed": false,
     "input": [
      "# using the first optional argument\n",
      "info(odbchelper, 30)"
     ],
     "language": "python",
     "metadata": {},
     "outputs": [
      {
       "output_type": "stream",
       "stream": "stdout",
       "text": [
        "buildConnectionString          Build a connection string from a dictionary of parameters. Returns string.\n",
        "fib                            Prints the Fibonacci series. Returns the Fibonacci series.\n"
       ]
      }
     ],
     "prompt_number": 24
    },
    {
     "cell_type": "code",
     "collapsed": false,
     "input": [
      "# using both optional arguments\n",
      "info(odbchelper, 30, 0)"
     ],
     "language": "python",
     "metadata": {},
     "outputs": [
      {
       "output_type": "stream",
       "stream": "stdout",
       "text": [
        "buildConnectionString          Build a connection string from a dictionary of parameters.\n",
        "\tReturns string.\n",
        "fib                             Prints the Fibonacci series.\n",
        "\t\tReturns the Fibonacci series. \n"
       ]
      }
     ],
     "prompt_number": 25
    },
    {
     "cell_type": "code",
     "collapsed": false,
     "input": [
      "# arguments can be out of order if named\n",
      "# this works because arguments are a dictionary!\n",
      "info(odbchelper, collapse = 0)"
     ],
     "language": "python",
     "metadata": {},
     "outputs": [
      {
       "output_type": "stream",
       "stream": "stdout",
       "text": [
        "buildConnectionString Build a connection string from a dictionary of parameters.\n",
        "\tReturns string.\n",
        "fib         Prints the Fibonacci series.\n",
        "\t\tReturns the Fibonacci series. \n"
       ]
      }
     ],
     "prompt_number": 26
    },
    {
     "cell_type": "code",
     "collapsed": false,
     "input": [
      "info(spacing = 15, object = odbchelper)"
     ],
     "language": "python",
     "metadata": {},
     "outputs": [
      {
       "output_type": "stream",
       "stream": "stdout",
       "text": [
        "buildConnectionString Build a connection string from a dictionary of parameters. Returns string.\n",
        "fib             Prints the Fibonacci series. Returns the Fibonacci series.\n"
       ]
      }
     ],
     "prompt_number": 27
    },
    {
     "cell_type": "heading",
     "level": 2,
     "metadata": {},
     "source": [
      "Some built in functions"
     ]
    },
    {
     "cell_type": "code",
     "collapsed": false,
     "input": [
      "# type built in function\n",
      "type(1)"
     ],
     "language": "python",
     "metadata": {},
     "outputs": [
      {
       "output_type": "pyout",
       "prompt_number": 28,
       "text": [
        "int"
       ]
      }
     ],
     "prompt_number": 28
    },
    {
     "cell_type": "code",
     "collapsed": false,
     "input": [
      "li = []\n",
      "type(li)"
     ],
     "language": "python",
     "metadata": {},
     "outputs": [
      {
       "output_type": "pyout",
       "prompt_number": 30,
       "text": [
        "list"
       ]
      }
     ],
     "prompt_number": 30
    },
    {
     "cell_type": "code",
     "collapsed": false,
     "input": [
      "import odbchelper\n",
      "type(odbchelper)"
     ],
     "language": "python",
     "metadata": {},
     "outputs": [
      {
       "output_type": "pyout",
       "prompt_number": 31,
       "text": [
        "module"
       ]
      }
     ],
     "prompt_number": 31
    },
    {
     "cell_type": "code",
     "collapsed": false,
     "input": [
      "import types\n",
      "type(types)"
     ],
     "language": "python",
     "metadata": {},
     "outputs": [
      {
       "output_type": "pyout",
       "prompt_number": 32,
       "text": [
        "module"
       ]
      }
     ],
     "prompt_number": 32
    },
    {
     "cell_type": "code",
     "collapsed": false,
     "input": [
      "type(odbchelper) == type(types)"
     ],
     "language": "python",
     "metadata": {},
     "outputs": [
      {
       "output_type": "pyout",
       "prompt_number": 33,
       "text": [
        "True"
       ]
      }
     ],
     "prompt_number": 33
    },
    {
     "cell_type": "code",
     "collapsed": false,
     "input": [
      "print types.__doc__"
     ],
     "language": "python",
     "metadata": {},
     "outputs": [
      {
       "output_type": "stream",
       "stream": "stdout",
       "text": [
        "Define names for all type symbols known in the standard interpreter.\n",
        "\n",
        "Types that are part of optional modules (e.g. array) are not listed.\n",
        "\n"
       ]
      }
     ],
     "prompt_number": 36
    },
    {
     "cell_type": "code",
     "collapsed": false,
     "input": [
      "dir(types)"
     ],
     "language": "python",
     "metadata": {},
     "outputs": [
      {
       "output_type": "pyout",
       "prompt_number": 37,
       "text": [
        "['BooleanType',\n",
        " 'BufferType',\n",
        " 'BuiltinFunctionType',\n",
        " 'BuiltinMethodType',\n",
        " 'ClassType',\n",
        " 'CodeType',\n",
        " 'ComplexType',\n",
        " 'DictProxyType',\n",
        " 'DictType',\n",
        " 'DictionaryType',\n",
        " 'EllipsisType',\n",
        " 'FileType',\n",
        " 'FloatType',\n",
        " 'FrameType',\n",
        " 'FunctionType',\n",
        " 'GeneratorType',\n",
        " 'GetSetDescriptorType',\n",
        " 'InstanceType',\n",
        " 'IntType',\n",
        " 'LambdaType',\n",
        " 'ListType',\n",
        " 'LongType',\n",
        " 'MemberDescriptorType',\n",
        " 'MethodType',\n",
        " 'ModuleType',\n",
        " 'NoneType',\n",
        " 'NotImplementedType',\n",
        " 'ObjectType',\n",
        " 'SliceType',\n",
        " 'StringType',\n",
        " 'StringTypes',\n",
        " 'TracebackType',\n",
        " 'TupleType',\n",
        " 'TypeType',\n",
        " 'UnboundMethodType',\n",
        " 'UnicodeType',\n",
        " 'XRangeType',\n",
        " '__builtins__',\n",
        " '__doc__',\n",
        " '__file__',\n",
        " '__name__',\n",
        " '__package__']"
       ]
      }
     ],
     "prompt_number": 37
    },
    {
     "cell_type": "code",
     "collapsed": false,
     "input": [
      "# dir built in function\n",
      "li = []\n",
      "dir(li)"
     ],
     "language": "python",
     "metadata": {},
     "outputs": [
      {
       "output_type": "pyout",
       "prompt_number": 38,
       "text": [
        "['__add__',\n",
        " '__class__',\n",
        " '__contains__',\n",
        " '__delattr__',\n",
        " '__delitem__',\n",
        " '__delslice__',\n",
        " '__doc__',\n",
        " '__eq__',\n",
        " '__format__',\n",
        " '__ge__',\n",
        " '__getattribute__',\n",
        " '__getitem__',\n",
        " '__getslice__',\n",
        " '__gt__',\n",
        " '__hash__',\n",
        " '__iadd__',\n",
        " '__imul__',\n",
        " '__init__',\n",
        " '__iter__',\n",
        " '__le__',\n",
        " '__len__',\n",
        " '__lt__',\n",
        " '__mul__',\n",
        " '__ne__',\n",
        " '__new__',\n",
        " '__reduce__',\n",
        " '__reduce_ex__',\n",
        " '__repr__',\n",
        " '__reversed__',\n",
        " '__rmul__',\n",
        " '__setattr__',\n",
        " '__setitem__',\n",
        " '__setslice__',\n",
        " '__sizeof__',\n",
        " '__str__',\n",
        " '__subclasshook__',\n",
        " 'append',\n",
        " 'count',\n",
        " 'extend',\n",
        " 'index',\n",
        " 'insert',\n",
        " 'pop',\n",
        " 'remove',\n",
        " 'reverse',\n",
        " 'sort']"
       ]
      }
     ],
     "prompt_number": 38
    },
    {
     "cell_type": "code",
     "collapsed": false,
     "input": [
      "dict = []\n",
      "dir(dict)"
     ],
     "language": "python",
     "metadata": {},
     "outputs": [
      {
       "output_type": "pyout",
       "prompt_number": 41,
       "text": [
        "['__add__',\n",
        " '__class__',\n",
        " '__contains__',\n",
        " '__delattr__',\n",
        " '__delitem__',\n",
        " '__delslice__',\n",
        " '__doc__',\n",
        " '__eq__',\n",
        " '__format__',\n",
        " '__ge__',\n",
        " '__getattribute__',\n",
        " '__getitem__',\n",
        " '__getslice__',\n",
        " '__gt__',\n",
        " '__hash__',\n",
        " '__iadd__',\n",
        " '__imul__',\n",
        " '__init__',\n",
        " '__iter__',\n",
        " '__le__',\n",
        " '__len__',\n",
        " '__lt__',\n",
        " '__mul__',\n",
        " '__ne__',\n",
        " '__new__',\n",
        " '__reduce__',\n",
        " '__reduce_ex__',\n",
        " '__repr__',\n",
        " '__reversed__',\n",
        " '__rmul__',\n",
        " '__setattr__',\n",
        " '__setitem__',\n",
        " '__setslice__',\n",
        " '__sizeof__',\n",
        " '__str__',\n",
        " '__subclasshook__',\n",
        " 'append',\n",
        " 'count',\n",
        " 'extend',\n",
        " 'index',\n",
        " 'insert',\n",
        " 'pop',\n",
        " 'remove',\n",
        " 'reverse',\n",
        " 'sort']"
       ]
      }
     ],
     "prompt_number": 41
    },
    {
     "cell_type": "code",
     "collapsed": false,
     "input": [
      "type(dict.__doc__)"
     ],
     "language": "python",
     "metadata": {},
     "outputs": [
      {
       "output_type": "pyout",
       "prompt_number": 42,
       "text": [
        "str"
       ]
      }
     ],
     "prompt_number": 42
    },
    {
     "cell_type": "code",
     "collapsed": false,
     "input": [
      "type(dict.append)"
     ],
     "language": "python",
     "metadata": {},
     "outputs": [
      {
       "output_type": "pyout",
       "prompt_number": 43,
       "text": [
        "builtin_function_or_method"
       ]
      }
     ],
     "prompt_number": 43
    },
    {
     "cell_type": "code",
     "collapsed": false,
     "input": [
      "newList = dir(dict)\n",
      "print newList[5]"
     ],
     "language": "python",
     "metadata": {},
     "outputs": [
      {
       "output_type": "stream",
       "stream": "stdout",
       "text": [
        "__delslice__\n"
       ]
      }
     ],
     "prompt_number": 46
    },
    {
     "cell_type": "code",
     "collapsed": false,
     "input": [
      "import odbchelper\n",
      "dir(odbchelper)"
     ],
     "language": "python",
     "metadata": {},
     "outputs": [
      {
       "output_type": "pyout",
       "prompt_number": 40,
       "text": [
        "['__builtins__',\n",
        " '__doc__',\n",
        " '__file__',\n",
        " '__name__',\n",
        " '__package__',\n",
        " 'buildConnectionString',\n",
        " 'fib']"
       ]
      }
     ],
     "prompt_number": 40
    },
    {
     "cell_type": "code",
     "collapsed": false,
     "input": [
      "# callable built in function\n",
      "import string\n",
      "string.punctuation"
     ],
     "language": "python",
     "metadata": {},
     "outputs": [
      {
       "output_type": "pyout",
       "prompt_number": 50,
       "text": [
        "'!\"#$%&\\'()*+,-./:;<=>?@[\\\\]^_`{|}~'"
       ]
      }
     ],
     "prompt_number": 50
    },
    {
     "cell_type": "code",
     "collapsed": false,
     "input": [
      "string.punctuation.index('*')"
     ],
     "language": "python",
     "metadata": {},
     "outputs": [
      {
       "output_type": "pyout",
       "prompt_number": 52,
       "text": [
        "9"
       ]
      }
     ],
     "prompt_number": 52
    },
    {
     "cell_type": "code",
     "collapsed": false,
     "input": [
      "string.punctuation[9]"
     ],
     "language": "python",
     "metadata": {},
     "outputs": [
      {
       "output_type": "pyout",
       "prompt_number": 53,
       "text": [
        "'*'"
       ]
      }
     ],
     "prompt_number": 53
    },
    {
     "cell_type": "code",
     "collapsed": false,
     "input": [
      "# nb this actually returns a string\n",
      "type(string.punctuation)"
     ],
     "language": "python",
     "metadata": {},
     "outputs": [
      {
       "output_type": "pyout",
       "prompt_number": 58,
       "text": [
        "str"
       ]
      }
     ],
     "prompt_number": 58
    },
    {
     "cell_type": "code",
     "collapsed": false,
     "input": [
      "type(string.punctuation[9])"
     ],
     "language": "python",
     "metadata": {},
     "outputs": [
      {
       "output_type": "pyout",
       "prompt_number": 59,
       "text": [
        "str"
       ]
      }
     ],
     "prompt_number": 59
    },
    {
     "cell_type": "code",
     "collapsed": false,
     "input": [
      "print string.punctuation.__doc__"
     ],
     "language": "python",
     "metadata": {},
     "outputs": [
      {
       "output_type": "stream",
       "stream": "stdout",
       "text": [
        "str(object) -> string\n",
        "\n",
        "Return a nice string representation of the object.\n",
        "If the argument is a string, the return value is the same object.\n"
       ]
      }
     ],
     "prompt_number": 60
    },
    {
     "cell_type": "code",
     "collapsed": false,
     "input": [
      "li = []\n",
      "string.punctuation(str(li))"
     ],
     "language": "python",
     "metadata": {},
     "outputs": [
      {
       "ename": "TypeError",
       "evalue": "'str' object is not callable",
       "output_type": "pyerr",
       "traceback": [
        "\u001b[0;31m---------------------------------------------------------------------------\u001b[0m\n\u001b[0;31mTypeError\u001b[0m                                 Traceback (most recent call last)",
        "\u001b[0;32m<ipython-input-66-0640a0c1c23b>\u001b[0m in \u001b[0;36m<module>\u001b[0;34m()\u001b[0m\n\u001b[1;32m      1\u001b[0m \u001b[0mli\u001b[0m \u001b[0;34m=\u001b[0m \u001b[0;34m[\u001b[0m\u001b[0;34m]\u001b[0m\u001b[0;34m\u001b[0m\u001b[0m\n\u001b[0;32m----> 2\u001b[0;31m \u001b[0mstring\u001b[0m\u001b[0;34m.\u001b[0m\u001b[0mpunctuation\u001b[0m\u001b[0;34m(\u001b[0m\u001b[0mstr\u001b[0m\u001b[0;34m(\u001b[0m\u001b[0mli\u001b[0m\u001b[0;34m)\u001b[0m\u001b[0;34m)\u001b[0m\u001b[0;34m\u001b[0m\u001b[0m\n\u001b[0m",
        "\u001b[0;31mTypeError\u001b[0m: 'str' object is not callable"
       ]
      }
     ],
     "prompt_number": 66
    },
    {
     "cell_type": "code",
     "collapsed": false,
     "input": [
      "dir(string)"
     ],
     "language": "python",
     "metadata": {},
     "outputs": [
      {
       "output_type": "pyout",
       "prompt_number": 48,
       "text": [
        "['Formatter',\n",
        " 'Template',\n",
        " '_TemplateMetaclass',\n",
        " '__builtins__',\n",
        " '__doc__',\n",
        " '__file__',\n",
        " '__name__',\n",
        " '__package__',\n",
        " '_float',\n",
        " '_idmap',\n",
        " '_idmapL',\n",
        " '_int',\n",
        " '_long',\n",
        " '_multimap',\n",
        " '_re',\n",
        " 'ascii_letters',\n",
        " 'ascii_lowercase',\n",
        " 'ascii_uppercase',\n",
        " 'atof',\n",
        " 'atof_error',\n",
        " 'atoi',\n",
        " 'atoi_error',\n",
        " 'atol',\n",
        " 'atol_error',\n",
        " 'capitalize',\n",
        " 'capwords',\n",
        " 'center',\n",
        " 'count',\n",
        " 'digits',\n",
        " 'expandtabs',\n",
        " 'find',\n",
        " 'hexdigits',\n",
        " 'index',\n",
        " 'index_error',\n",
        " 'join',\n",
        " 'joinfields',\n",
        " 'letters',\n",
        " 'ljust',\n",
        " 'lower',\n",
        " 'lowercase',\n",
        " 'lstrip',\n",
        " 'maketrans',\n",
        " 'octdigits',\n",
        " 'printable',\n",
        " 'punctuation',\n",
        " 'replace',\n",
        " 'rfind',\n",
        " 'rindex',\n",
        " 'rjust',\n",
        " 'rsplit',\n",
        " 'rstrip',\n",
        " 'split',\n",
        " 'splitfields',\n",
        " 'strip',\n",
        " 'swapcase',\n",
        " 'translate',\n",
        " 'upper',\n",
        " 'uppercase',\n",
        " 'whitespace',\n",
        " 'zfill']"
       ]
      }
     ],
     "prompt_number": 48
    },
    {
     "cell_type": "code",
     "collapsed": false,
     "input": [
      "string.join"
     ],
     "language": "python",
     "metadata": {},
     "outputs": [
      {
       "output_type": "pyout",
       "prompt_number": 54,
       "text": [
        "<function string.join>"
       ]
      }
     ],
     "prompt_number": 54
    },
    {
     "cell_type": "code",
     "collapsed": false,
     "input": [
      "callable(string.punctuation)"
     ],
     "language": "python",
     "metadata": {},
     "outputs": [
      {
       "output_type": "pyout",
       "prompt_number": 55,
       "text": [
        "False"
       ]
      }
     ],
     "prompt_number": 55
    },
    {
     "cell_type": "code",
     "collapsed": false,
     "input": [
      "callable(string.join)"
     ],
     "language": "python",
     "metadata": {},
     "outputs": [
      {
       "output_type": "pyout",
       "prompt_number": 56,
       "text": [
        "True"
       ]
      }
     ],
     "prompt_number": 56
    },
    {
     "cell_type": "code",
     "collapsed": false,
     "input": [
      "print string.join.__doc__"
     ],
     "language": "python",
     "metadata": {},
     "outputs": [
      {
       "output_type": "stream",
       "stream": "stdout",
       "text": [
        "join(list [,sep]) -> string\n",
        "\n",
        "    Return a string composed of the words in list, with\n",
        "    intervening occurrences of sep.  The default separator is a\n",
        "    single space.\n",
        "\n",
        "    (joinfields and join are synonymous)\n",
        "\n",
        "    \n"
       ]
      }
     ],
     "prompt_number": 57
    },
    {
     "cell_type": "code",
     "collapsed": false,
     "input": [
      "from apihelper import info\n",
      "import __builtin__\n",
      "info(__builtin__, 20)"
     ],
     "language": "python",
     "metadata": {},
     "outputs": [
      {
       "output_type": "stream",
       "stream": "stdout",
       "text": [
        "ArithmeticError      Base class for arithmetic errors.\n",
        "AssertionError       Assertion failed.\n",
        "AttributeError       Attribute not found.\n",
        "BaseException        Common base class for all exceptions\n",
        "BufferError          Buffer error.\n",
        "BytesWarning         Base class for warnings about bytes and buffer related problems, mostly related to conversion from str or comparing to str.\n",
        "DeprecationWarning   Base class for warnings about deprecated features.\n",
        "EOFError             Read beyond end of file.\n",
        "EnvironmentError     Base class for I/O related errors.\n",
        "Exception            Common base class for all non-exit exceptions.\n",
        "FloatingPointError   Floating point operation failed.\n",
        "FutureWarning        Base class for warnings about constructs that will change semantically in the future.\n",
        "GeneratorExit        Request that a generator exit.\n",
        "IOError              I/O operation failed.\n",
        "ImportError          Import can't find module, or can't find name in module.\n",
        "ImportWarning        Base class for warnings about probable mistakes in module imports\n",
        "IndentationError     Improper indentation.\n",
        "IndexError           Sequence index out of range.\n",
        "KeyError             Mapping key not found.\n",
        "KeyboardInterrupt    Program interrupted by user.\n",
        "LookupError          Base class for lookup errors.\n",
        "MemoryError          Out of memory.\n",
        "NameError            Name not found globally.\n",
        "NotImplementedError  Method or function hasn't been implemented yet.\n",
        "OSError              OS system call failed.\n",
        "OverflowError        Result too large to be represented.\n",
        "PendingDeprecationWarning Base class for warnings about features which will be deprecated in the future.\n",
        "ReferenceError       Weak ref proxy used after referent went away.\n",
        "RuntimeError         Unspecified run-time error.\n",
        "RuntimeWarning       Base class for warnings about dubious runtime behavior.\n",
        "StandardError        Base class for all standard Python exceptions that do not represent interpreter exiting.\n",
        "StopIteration        Signal the end from iterator.next().\n",
        "SyntaxError          Invalid syntax.\n",
        "SyntaxWarning        Base class for warnings about dubious syntax.\n",
        "SystemError          Internal error in the Python interpreter. Please report this to the Python maintainer, along with the traceback, the Python version, and the hardware/OS platform and version.\n",
        "SystemExit           Request to exit from the interpreter.\n",
        "TabError             Improper mixture of spaces and tabs.\n",
        "TypeError            Inappropriate argument type.\n",
        "UnboundLocalError    Local name referenced but not bound to a value.\n",
        "UnicodeDecodeError   Unicode decoding error.\n",
        "UnicodeEncodeError   Unicode encoding error.\n",
        "UnicodeError         Unicode related error.\n",
        "UnicodeTranslateError Unicode translation error.\n",
        "UnicodeWarning       Base class for warnings about Unicode related problems, mostly related to conversion problems.\n",
        "UserWarning          Base class for warnings generated by user code.\n",
        "ValueError           Inappropriate argument value (of correct type).\n",
        "Warning              Base class for warning categories.\n",
        "ZeroDivisionError    Second argument to a division or modulo operation was zero.\n",
        "__import__           __import__(name, globals={}, locals={}, fromlist=[], level=-1) -> module Import a module. The globals are only used to determine the context; they are not modified. The locals are currently unused. The fromlist should be a list of names to emulate ``from name import ...'', or an empty list to emulate ``import name''. When importing a module from a package, note that __import__('A.B', ...) returns package A when fromlist is empty, but its submodule B when fromlist is not empty. Level is used to determine whether to perform absolute or relative imports. -1 is the original strategy of attempting both absolute and relative imports, 0 is absolute, a positive number is the number of parent directories to search relative to the current module.\n",
        "abs                  abs(number) -> number Return the absolute value of the argument.\n",
        "all                  all(iterable) -> bool Return True if bool(x) is True for all values x in the iterable.\n",
        "any                  any(iterable) -> bool Return True if bool(x) is True for any x in the iterable.\n",
        "apply                apply(object[, args[, kwargs]]) -> value Call a callable object with positional arguments taken from the tuple args, and keyword arguments taken from the optional dictionary kwargs. Note that classes are callable, as are instances with a __call__() method. Deprecated since release 2.3. Instead, use the extended call syntax: function(*args, **keywords).\n",
        "basestring           Type basestring cannot be instantiated; it is the base for str and unicode.\n",
        "bin                  bin(number) -> string Return the binary representation of an integer or long integer.\n",
        "bool                 bool(x) -> bool Returns True when the argument x is true, False otherwise. The builtins True and False are the only two instances of the class bool. The class bool is a subclass of the class int, and cannot be subclassed.\n",
        "buffer               buffer(object [, offset[, size]]) Create a new buffer object which references the given object. The buffer will reference a slice of the target object from the start of the object (or at the specified offset). The slice will extend to the end of the target object (or with the specified size).\n",
        "bytearray            bytearray(iterable_of_ints) -> bytearray. bytearray(string, encoding[, errors]) -> bytearray. bytearray(bytes_or_bytearray) -> mutable copy of bytes_or_bytearray. bytearray(memory_view) -> bytearray. Construct an mutable bytearray object from: - an iterable yielding integers in range(256) - a text string encoded using the specified encoding - a bytes or a bytearray object - any object implementing the buffer API. bytearray(int) -> bytearray. Construct a zero-initialized bytearray of the given length.\n",
        "bytes                str(object) -> string Return a nice string representation of the object. If the argument is a string, the return value is the same object.\n",
        "callable             callable(object) -> bool Return whether the object is callable (i.e., some kind of function). Note that classes are callable, as are instances with a __call__() method.\n",
        "chr                  chr(i) -> character Return a string of one character with ordinal i; 0 <= i < 256.\n",
        "classmethod          classmethod(function) -> method Convert a function to be a class method. A class method receives the class as implicit first argument, just like an instance method receives the instance. To declare a class method, use this idiom: class C: def f(cls, arg1, arg2, ...): ... f = classmethod(f) It can be called either on the class (e.g. C.f()) or on an instance (e.g. C().f()). The instance is ignored except for its class. If a class method is called for a derived class, the derived class object is passed as the implied first argument. Class methods are different than C++ or Java static methods. If you want those, see the staticmethod builtin.\n",
        "cmp                  cmp(x, y) -> integer Return negative if x<y, zero if x==y, positive if x>y.\n",
        "coerce               coerce(x, y) -> (x1, y1) Return a tuple consisting of the two numeric arguments converted to a common type, using the same rules as used by arithmetic operations. If coercion is not possible, raise TypeError.\n",
        "compile              compile(source, filename, mode[, flags[, dont_inherit]]) -> code object Compile the source string (a Python module, statement or expression) into a code object that can be executed by the exec statement or eval(). The filename will be used for run-time error messages. The mode must be 'exec' to compile a module, 'single' to compile a single (interactive) statement, or 'eval' to compile an expression. The flags argument, if present, controls which future statements influence the compilation of the code. The dont_inherit argument, if non-zero, stops the compilation inheriting the effects of any future statements in effect in the code calling compile; if absent or zero these statements do influence the compilation, in addition to any features explicitly specified.\n",
        "complex              complex(real[, imag]) -> complex number Create a complex number from a real part and an optional imaginary part. This is equivalent to (real + imag*1j) where imag defaults to 0.\n",
        "copyright            interactive prompt objects for printing the license text, a list of contributors and the copyright notice.\n",
        "credits              interactive prompt objects for printing the license text, a list of contributors and the copyright notice.\n",
        "delattr              delattr(object, name) Delete a named attribute on an object; delattr(x, 'y') is equivalent to ``del x.y''.\n",
        "dict                 dict() -> new empty dictionary dict(mapping) -> new dictionary initialized from a mapping object's (key, value) pairs dict(iterable) -> new dictionary initialized as if via: d = {} for k, v in iterable: d[k] = v dict(**kwargs) -> new dictionary initialized with the name=value pairs in the keyword argument list. For example: dict(one=1, two=2)\n",
        "dir                  dir([object]) -> list of strings If called without an argument, return the names in the current scope. Else, return an alphabetized list of names comprising (some of) the attributes of the given object, and of attributes reachable from it. If the object supplies a method named __dir__, it will be used; otherwise the default dir() logic is used and returns: for a module object: the module's attributes. for a class object: its attributes, and recursively the attributes of its bases. for any other object: its attributes, its class's attributes, and recursively the attributes of its class's base classes.\n",
        "divmod               divmod(x, y) -> (quotient, remainder) Return the tuple ((x-x%y)/y, x%y). Invariant: div*y + mod == x.\n",
        "dreload              Recursively reload all modules used in the given module. Optionally takes a list of modules to exclude from reloading. The default exclude list contains sys, __main__, and __builtin__, to prevent, e.g., resetting display, exception, and io hooks.\n",
        "enumerate            enumerate(iterable[, start]) -> iterator for index, value of iterable Return an enumerate object. iterable must be another object that supports iteration. The enumerate object yields pairs containing a count (from start, which defaults to zero) and a value yielded by the iterable argument. enumerate is useful for obtaining an indexed list: (0, seq[0]), (1, seq[1]), (2, seq[2]), ...\n",
        "eval                 eval(source[, globals[, locals]]) -> value Evaluate the source in the context of globals and locals. The source may be a string representing a Python expression or a code object as returned by compile(). The globals must be a dictionary and locals can be any mapping, defaulting to the current globals and locals. If only globals is given, locals defaults to it.\n",
        "execfile             execfile(filename[, globals[, locals]]) Read and execute a Python script from a file. The globals and locals are dictionaries, defaulting to the current globals and locals. If only globals is given, locals defaults to it.\n",
        "file                 file(name[, mode[, buffering]]) -> file object Open a file. The mode can be 'r', 'w' or 'a' for reading (default), writing or appending. The file will be created if it doesn't exist when opened for writing or appending; it will be truncated when opened for writing. Add a 'b' to the mode for binary files. Add a '+' to the mode to allow simultaneous reading and writing. If the buffering argument is given, 0 means unbuffered, 1 means line buffered, and larger numbers specify the buffer size. The preferred way to open a file is with the builtin open() function. Add a 'U' to mode to open the file for input with universal newline support. Any line ending in the input file will be seen as a '\\n' in Python. Also, a file so opened gains the attribute 'newlines'; the value for this attribute is one of None (no newline read yet), '\\r', '\\n', '\\r\\n' or a tuple containing all the newline types seen. 'U' cannot be combined with 'w' or '+' mode.\n",
        "filter               filter(function or None, sequence) -> list, tuple, or string Return those items of sequence for which function(item) is true. If function is None, return the items that are true. If sequence is a tuple or string, return the same type, else return a list.\n",
        "float                float(x) -> floating point number Convert a string or number to a floating point number, if possible.\n",
        "format               format(value[, format_spec]) -> string Returns value.__format__(format_spec) format_spec defaults to \"\"\n",
        "frozenset            frozenset() -> empty frozenset object frozenset(iterable) -> frozenset object Build an immutable unordered collection of unique elements.\n",
        "get_ipython          Return the currently running IPython instance.\n",
        "getattr              getattr(object, name[, default]) -> value Get a named attribute from an object; getattr(x, 'y') is equivalent to x.y. When a default argument is given, it is returned when the attribute doesn't exist; without it, an exception is raised in that case.\n",
        "globals              globals() -> dictionary Return the dictionary containing the current scope's global variables.\n",
        "hasattr              hasattr(object, name) -> bool Return whether the object has an attribute with the given name. (This is done by calling getattr(object, name) and catching exceptions.)\n",
        "hash                 hash(object) -> integer Return a hash value for the object. Two objects with the same value have the same hash value. The reverse is not necessarily true, but likely.\n",
        "help                 Define the builtin 'help'. This is a wrapper around pydoc.help (with a twist).\n",
        "hex                  hex(number) -> string Return the hexadecimal representation of an integer or long integer.\n",
        "id                   id(object) -> integer Return the identity of an object. This is guaranteed to be unique among simultaneously existing objects. (Hint: it's the object's memory address.)\n",
        "input                input([prompt]) -> value Equivalent to eval(raw_input(prompt)).\n",
        "int                  int(x[, base]) -> integer Convert a string or number to an integer, if possible. A floating point argument will be truncated towards zero (this does not include a string representation of a floating point number!) When converting a string, use the optional base. It is an error to supply a base when converting a non-string. If base is zero, the proper base is guessed based on the string content. If the argument is outside the integer range a long object will be returned instead.\n",
        "intern               intern(string) -> string ``Intern'' the given string. This enters the string in the (global) table of interned strings whose purpose is to speed up dictionary lookups. Return the string itself or the previously interned string object with the same value.\n",
        "isinstance           isinstance(object, class-or-type-or-tuple) -> bool Return whether an object is an instance of a class or of a subclass thereof. With a type as second argument, return whether that is the object's type. The form using a tuple, isinstance(x, (A, B, ...)), is a shortcut for isinstance(x, A) or isinstance(x, B) or ... (etc.).\n",
        "issubclass           issubclass(C, B) -> bool Return whether class C is a subclass (i.e., a derived class) of class B. When using a tuple as the second argument issubclass(X, (A, B, ...)), is a shortcut for issubclass(X, A) or issubclass(X, B) or ... (etc.).\n",
        "iter                 iter(collection) -> iterator iter(callable, sentinel) -> iterator Get an iterator from an object. In the first form, the argument must supply its own iterator, or be a sequence. In the second form, the callable is called until it returns the sentinel.\n",
        "len                  len(object) -> integer Return the number of items of a sequence or mapping.\n",
        "license              interactive prompt objects for printing the license text, a list of contributors and the copyright notice.\n",
        "list                 list() -> new empty list list(iterable) -> new list initialized from iterable's items\n",
        "locals               locals() -> dictionary Update and return a dictionary containing the current scope's local variables.\n",
        "long                 long(x[, base]) -> integer Convert a string or number to a long integer, if possible. A floating point argument will be truncated towards zero (this does not include a string representation of a floating point number!) When converting a string, use the optional base. It is an error to supply a base when converting a non-string.\n",
        "map                  map(function, sequence[, sequence, ...]) -> list Return a list of the results of applying the function to the items of the argument sequence(s). If more than one sequence is given, the function is called with an argument list consisting of the corresponding item of each sequence, substituting None for missing values when not all sequences have the same length. If the function is None, return a list of the items of the sequence (or a list of tuples if more than one sequence).\n",
        "max                  max(iterable[, key=func]) -> value max(a, b, c, ...[, key=func]) -> value With a single iterable argument, return its largest item. With two or more arguments, return the largest argument.\n",
        "memoryview           memoryview(object) Create a new memoryview object which references the given object.\n",
        "min                  min(iterable[, key=func]) -> value min(a, b, c, ...[, key=func]) -> value With a single iterable argument, return its smallest item. With two or more arguments, return the smallest argument.\n",
        "next                 next(iterator[, default]) Return the next item from the iterator. If default is given and the iterator is exhausted, it is returned instead of raising StopIteration.\n",
        "object               The most base type\n",
        "oct                  oct(number) -> string Return the octal representation of an integer or long integer.\n",
        "open                 open(name[, mode[, buffering]]) -> file object Open a file using the file() type, returns a file object. This is the preferred way to open a file. See file.__doc__ for further information.\n",
        "ord                  ord(c) -> integer Return the integer ordinal of a one-character string.\n",
        "pow                  pow(x, y[, z]) -> number With two arguments, equivalent to x**y. With three arguments, equivalent to (x**y) % z, but may be more efficient (e.g. for longs).\n",
        "print                print(value, ..., sep=' ', end='\\n', file=sys.stdout) Prints the values to a stream, or to sys.stdout by default. Optional keyword arguments: file: a file-like object (stream); defaults to the current sys.stdout. sep: string inserted between values, default a space. end: string appended after the last value, default a newline.\n",
        "property             property(fget=None, fset=None, fdel=None, doc=None) -> property attribute fget is a function to be used for getting an attribute value, and likewise fset is a function for setting, and fdel a function for del'ing, an attribute. Typical use is to define a managed attribute x: class C(object): def getx(self): return self._x def setx(self, value): self._x = value def delx(self): del self._x x = property(getx, setx, delx, \"I'm the 'x' property.\") Decorators make defining new properties or modifying existing ones easy: class C(object): @property def x(self): return self._x @x.setter def x(self, value): self._x = value @x.deleter def x(self): del self._x\n",
        "range                range([start,] stop[, step]) -> list of integers Return a list containing an arithmetic progression of integers. range(i, j) returns [i, i+1, i+2, ..., j-1]; start (!) defaults to 0. When step is given, it specifies the increment (or decrement). For example, range(4) returns [0, 1, 2, 3]. The end point is omitted! These are exactly the valid indices for a list of 4 elements.\n",
        "raw_input            None\n",
        "reduce               reduce(function, sequence[, initial]) -> value Apply a function of two arguments cumulatively to the items of a sequence, from left to right, so as to reduce the sequence to a single value. For example, reduce(lambda x, y: x+y, [1, 2, 3, 4, 5]) calculates ((((1+2)+3)+4)+5). If initial is present, it is placed before the items of the sequence in the calculation, and serves as a default when the sequence is empty.\n",
        "reload               reload(module) -> module Reload the module. The module must have been successfully imported before.\n",
        "repr                 repr(object) -> string Return the canonical string representation of the object. For most object types, eval(repr(object)) == object.\n",
        "reversed             reversed(sequence) -> reverse iterator over values of the sequence Return a reverse iterator\n",
        "round                round(number[, ndigits]) -> floating point number Round a number to a given precision in decimal digits (default 0 digits). This always returns a floating point number. Precision may be negative.\n",
        "set                  set() -> new empty set object set(iterable) -> new set object Build an unordered collection of unique elements.\n",
        "setattr              setattr(object, name, value) Set a named attribute on an object; setattr(x, 'y', v) is equivalent to ``x.y = v''.\n",
        "slice                slice([start,] stop[, step]) Create a slice object. This is used for extended slicing (e.g. a[0:10:2]).\n",
        "sorted               sorted(iterable, cmp=None, key=None, reverse=False) --> new sorted list\n",
        "staticmethod         staticmethod(function) -> method Convert a function to be a static method. A static method does not receive an implicit first argument. To declare a static method, use this idiom: class C: def f(arg1, arg2, ...): ... f = staticmethod(f) It can be called either on the class (e.g. C.f()) or on an instance (e.g. C().f()). The instance is ignored except for its class. Static methods in Python are similar to those found in Java or C++. For a more advanced concept, see the classmethod builtin.\n",
        "str                  str(object) -> string Return a nice string representation of the object. If the argument is a string, the return value is the same object.\n",
        "sum                  sum(sequence[, start]) -> value Returns the sum of a sequence of numbers (NOT strings) plus the value of parameter 'start' (which defaults to 0). When the sequence is empty, returns start.\n",
        "super                super(type) -> unbound super object super(type, obj) -> bound super object; requires isinstance(obj, type) super(type, type2) -> bound super object; requires issubclass(type2, type) Typical use to call a cooperative superclass method: class C(B): def meth(self, arg): super(C, self).meth(arg)\n",
        "tuple                tuple() -> empty tuple tuple(iterable) -> tuple initialized from iterable's items If the argument is a tuple, the return value is the same object.\n",
        "type                 type(object) -> the object's type type(name, bases, dict) -> a new type\n",
        "unichr               unichr(i) -> Unicode character Return a Unicode string of one character with ordinal i; 0 <= i <= 0x10ffff.\n",
        "unicode              unicode(string [, encoding[, errors]]) -> object Create a new Unicode object from the given encoded string. encoding defaults to the current default string encoding. errors can be 'strict', 'replace' or 'ignore' and defaults to 'strict'.\n",
        "vars                 vars([object]) -> dictionary Without arguments, equivalent to locals(). With an argument, equivalent to object.__dict__.\n",
        "xrange               xrange([start,] stop[, step]) -> xrange object Like range(), but instead of returning a list, returns an object that generates the numbers in the range on demand. For looping, this is slightly faster than range() and more memory efficient.\n",
        "zip                  zip(seq1 [, seq2 [...]]) -> [(seq1[0], seq2[0] ...), (...)] Return a list of tuples, where each tuple contains the i-th element from each of the argument sequences. The returned list is truncated in length to the length of the shortest argument sequence.\n"
       ]
      }
     ],
     "prompt_number": 70
    },
    {
     "cell_type": "heading",
     "level": 2,
     "metadata": {},
     "source": [
      "Get object references with getattr"
     ]
    },
    {
     "cell_type": "code",
     "collapsed": false,
     "input": [
      "li = [\"larry\", \"curly\"]\n",
      "li.pop\n",
      "# in the python interpreter this will return\n",
      "# <built-in method pop of list object at 0x10669ff38> or similar reference"
     ],
     "language": "python",
     "metadata": {},
     "outputs": [
      {
       "output_type": "pyout",
       "prompt_number": 126,
       "text": [
        "<function pop>"
       ]
      }
     ],
     "prompt_number": 126
    },
    {
     "cell_type": "code",
     "collapsed": false,
     "input": [
      "print li.pop"
     ],
     "language": "python",
     "metadata": {},
     "outputs": [
      {
       "output_type": "stream",
       "stream": "stdout",
       "text": [
        "<built-in method pop of list object at 0x10ea24cf8>\n"
       ]
      }
     ],
     "prompt_number": 111
    },
    {
     "cell_type": "code",
     "collapsed": false,
     "input": [
      "type(li.pop)"
     ],
     "language": "python",
     "metadata": {},
     "outputs": [
      {
       "output_type": "pyout",
       "prompt_number": 112,
       "text": [
        "builtin_function_or_method"
       ]
      }
     ],
     "prompt_number": 112
    },
    {
     "cell_type": "code",
     "collapsed": false,
     "input": [
      "li.pop()"
     ],
     "language": "python",
     "metadata": {},
     "outputs": [
      {
       "output_type": "pyout",
       "prompt_number": 113,
       "text": [
        "'curly'"
       ]
      }
     ],
     "prompt_number": 113
    },
    {
     "cell_type": "code",
     "collapsed": false,
     "input": [
      "print li"
     ],
     "language": "python",
     "metadata": {},
     "outputs": [
      {
       "output_type": "stream",
       "stream": "stdout",
       "text": [
        "['larry']\n"
       ]
      }
     ],
     "prompt_number": 114
    },
    {
     "cell_type": "code",
     "collapsed": false,
     "input": [
      "print getattr(li, \"pop\")\n",
      "# in the python interpreter this will return\n",
      "# <built-in method pop of list object at 0x10669ff38> or similar referencer"
     ],
     "language": "python",
     "metadata": {},
     "outputs": [
      {
       "output_type": "stream",
       "stream": "stdout",
       "text": [
        "<built-in method pop of list object at 0x10ea29908>\n"
       ]
      }
     ],
     "prompt_number": 143
    },
    {
     "cell_type": "code",
     "collapsed": false,
     "input": [
      "# getattr is useful for example in a list comprehension of strings to call a function based on \n",
      "# the current string element in the list.\n",
      "# Or, to build a complex string, maybe to open or save a file.\n",
      "returnedString = \"append\"\n",
      "print getattr(li, returnedString)(\"Moe\")\n",
      "li"
     ],
     "language": "python",
     "metadata": {},
     "outputs": [
      {
       "output_type": "stream",
       "stream": "stdout",
       "text": [
        "None\n"
       ]
      },
      {
       "output_type": "pyout",
       "prompt_number": 144,
       "text": [
        "['larry', 'curly', 'Moe']"
       ]
      }
     ],
     "prompt_number": 144
    },
    {
     "cell_type": "code",
     "collapsed": false,
     "input": [
      "# or\n",
      "import odbchelper\n",
      "resultFromElseWhere = \"ConnectionString\"\n",
      "print getattr(odbchelper, \"build%s\" % resultFromElseWhere)"
     ],
     "language": "python",
     "metadata": {},
     "outputs": [
      {
       "output_type": "stream",
       "stream": "stdout",
       "text": [
        "<function buildConnectionString at 0x10e5b41b8>\n"
       ]
      }
     ],
     "prompt_number": 145
    },
    {
     "cell_type": "code",
     "collapsed": false,
     "input": [
      "print getattr({}, \"clear\")"
     ],
     "language": "python",
     "metadata": {},
     "outputs": [
      {
       "output_type": "stream",
       "stream": "stdout",
       "text": [
        "<built-in method clear of dict object at 0x106552960>\n"
       ]
      }
     ],
     "prompt_number": 117
    },
    {
     "cell_type": "code",
     "collapsed": false,
     "input": [
      "print getattr((), \"pop\")"
     ],
     "language": "python",
     "metadata": {},
     "outputs": [
      {
       "ename": "AttributeError",
       "evalue": "'tuple' object has no attribute 'pop'",
       "output_type": "pyerr",
       "traceback": [
        "\u001b[0;31m---------------------------------------------------------------------------\u001b[0m\n\u001b[0;31mAttributeError\u001b[0m                            Traceback (most recent call last)",
        "\u001b[0;32m<ipython-input-118-f0cb1c760238>\u001b[0m in \u001b[0;36m<module>\u001b[0;34m()\u001b[0m\n\u001b[0;32m----> 1\u001b[0;31m \u001b[0;32mprint\u001b[0m \u001b[0mgetattr\u001b[0m\u001b[0;34m(\u001b[0m\u001b[0;34m(\u001b[0m\u001b[0;34m)\u001b[0m\u001b[0;34m,\u001b[0m \u001b[0;34m\"pop\"\u001b[0m\u001b[0;34m)\u001b[0m\u001b[0;34m\u001b[0m\u001b[0m\n\u001b[0m",
        "\u001b[0;31mAttributeError\u001b[0m: 'tuple' object has no attribute 'pop'"
       ]
      }
     ],
     "prompt_number": 118
    },
    {
     "cell_type": "code",
     "collapsed": false,
     "input": [
      "import odbchelper\n",
      "print odbchelper.buildConnectionString"
     ],
     "language": "python",
     "metadata": {},
     "outputs": [
      {
       "output_type": "stream",
       "stream": "stdout",
       "text": [
        "<function buildConnectionString at 0x10e5b41b8>\n"
       ]
      }
     ],
     "prompt_number": 119
    },
    {
     "cell_type": "code",
     "collapsed": false,
     "input": [
      "print getattr(odbchelper, \"buildConnectionString\")"
     ],
     "language": "python",
     "metadata": {},
     "outputs": [
      {
       "output_type": "stream",
       "stream": "stdout",
       "text": [
        "<function buildConnectionString at 0x10e5b41b8>\n"
       ]
      }
     ],
     "prompt_number": 120
    },
    {
     "cell_type": "code",
     "collapsed": false,
     "input": [
      "object = odbchelper\n",
      "method = \"buildConnectionString\"\n",
      "print getattr(object, method)"
     ],
     "language": "python",
     "metadata": {},
     "outputs": [
      {
       "output_type": "stream",
       "stream": "stdout",
       "text": [
        "<function buildConnectionString at 0x10e5b41b8>\n"
       ]
      }
     ],
     "prompt_number": 122
    },
    {
     "cell_type": "code",
     "collapsed": false,
     "input": [
      "type(getattr(object, method))"
     ],
     "language": "python",
     "metadata": {},
     "outputs": [
      {
       "output_type": "pyout",
       "prompt_number": 123,
       "text": [
        "function"
       ]
      }
     ],
     "prompt_number": 123
    },
    {
     "cell_type": "code",
     "collapsed": false,
     "input": [
      "import types\n",
      "type(getattr(object, method)) == types.FunctionType"
     ],
     "language": "python",
     "metadata": {},
     "outputs": [
      {
       "output_type": "pyout",
       "prompt_number": 124,
       "text": [
        "True"
       ]
      }
     ],
     "prompt_number": 124
    },
    {
     "cell_type": "code",
     "collapsed": false,
     "input": [
      "callable(getattr(object, method))"
     ],
     "language": "python",
     "metadata": {},
     "outputs": [
      {
       "output_type": "pyout",
       "prompt_number": 125,
       "text": [
        "True"
       ]
      }
     ],
     "prompt_number": 125
    },
    {
     "cell_type": "code",
     "collapsed": false,
     "input": [
      "# dealing with errors with getattr\n",
      "import odbchelper\n",
      "dir(odbchelper)"
     ],
     "language": "python",
     "metadata": {},
     "outputs": [
      {
       "output_type": "pyout",
       "prompt_number": 129,
       "text": [
        "['__builtins__',\n",
        " '__doc__',\n",
        " '__file__',\n",
        " '__name__',\n",
        " '__package__',\n",
        " 'buildConnectionString',\n",
        " 'fib']"
       ]
      }
     ],
     "prompt_number": 129
    },
    {
     "cell_type": "code",
     "collapsed": false,
     "input": [
      "object = odbchelper\n",
      "method = \"functionDoesntExist\"\n",
      "getattr(object, method)"
     ],
     "language": "python",
     "metadata": {},
     "outputs": [
      {
       "ename": "AttributeError",
       "evalue": "'module' object has no attribute 'functionDoesntExist'",
       "output_type": "pyerr",
       "traceback": [
        "\u001b[0;31m---------------------------------------------------------------------------\u001b[0m\n\u001b[0;31mAttributeError\u001b[0m                            Traceback (most recent call last)",
        "\u001b[0;32m<ipython-input-146-ac32d449c276>\u001b[0m in \u001b[0;36m<module>\u001b[0;34m()\u001b[0m\n\u001b[1;32m      1\u001b[0m \u001b[0mobject\u001b[0m \u001b[0;34m=\u001b[0m \u001b[0modbchelper\u001b[0m\u001b[0;34m\u001b[0m\u001b[0m\n\u001b[1;32m      2\u001b[0m \u001b[0mmethod\u001b[0m \u001b[0;34m=\u001b[0m \u001b[0;34m\"functionDoesntExist\"\u001b[0m\u001b[0;34m\u001b[0m\u001b[0m\n\u001b[0;32m----> 3\u001b[0;31m \u001b[0mgetattr\u001b[0m\u001b[0;34m(\u001b[0m\u001b[0mobject\u001b[0m\u001b[0;34m,\u001b[0m \u001b[0mmethod\u001b[0m\u001b[0;34m)\u001b[0m\u001b[0;34m\u001b[0m\u001b[0m\n\u001b[0m",
        "\u001b[0;31mAttributeError\u001b[0m: 'module' object has no attribute 'functionDoesntExist'"
       ]
      }
     ],
     "prompt_number": 146
    },
    {
     "cell_type": "code",
     "collapsed": false,
     "input": [
      "# so supply a default\n",
      "object = odbchelper\n",
      "method = \"functionDoesntExist\"\n",
      "print getattr(object, method, object.fib)"
     ],
     "language": "python",
     "metadata": {},
     "outputs": [
      {
       "output_type": "stream",
       "stream": "stdout",
       "text": [
        "<function fib at 0x10e5b4398>\n"
       ]
      }
     ],
     "prompt_number": 142
    },
    {
     "cell_type": "heading",
     "level": 2,
     "metadata": {},
     "source": [
      "Filtering lists"
     ]
    },
    {
     "cell_type": "raw",
     "metadata": {},
     "source": [
      "[mapping-expression for element in source-list if filter-expression]"
     ]
    },
    {
     "cell_type": "code",
     "collapsed": false,
     "input": [
      "li = [\"a\", \"mpilgrim\", \"foo\", \"b\", \"b\", \"c\", \"d\", \"d\"]\n",
      "[elem for elem in li if len(elem) > 1]"
     ],
     "language": "python",
     "metadata": {},
     "outputs": [
      {
       "output_type": "pyout",
       "prompt_number": 156,
       "text": [
        "['mpilgrim', 'foo']"
       ]
      }
     ],
     "prompt_number": 156
    },
    {
     "cell_type": "code",
     "collapsed": false,
     "input": [
      "[elem for elem in li if elem != 'b']"
     ],
     "language": "python",
     "metadata": {},
     "outputs": [
      {
       "output_type": "pyout",
       "prompt_number": 148,
       "text": [
        "['a', 'mpilgrim', 'foo', 'c', 'd', 'd']"
       ]
      }
     ],
     "prompt_number": 148
    },
    {
     "cell_type": "code",
     "collapsed": false,
     "input": [
      "checkList = [\"a\", \"b\", \"c\"]\n",
      "[elem for elem in li if elem in checkList]"
     ],
     "language": "python",
     "metadata": {},
     "outputs": [
      {
       "output_type": "pyout",
       "prompt_number": 149,
       "text": [
        "['a', 'b', 'c']"
       ]
      }
     ],
     "prompt_number": 149
    },
    {
     "cell_type": "code",
     "collapsed": false,
     "input": [
      "li.count.__doc__"
     ],
     "language": "python",
     "metadata": {},
     "outputs": [
      {
       "output_type": "pyout",
       "prompt_number": 155,
       "text": [
        "'L.count(value) -> integer -- return number of occurrences of value'"
       ]
      }
     ],
     "prompt_number": 155
    },
    {
     "cell_type": "code",
     "collapsed": false,
     "input": [
      "[elem for elem in li if li.count(elem) == 1]"
     ],
     "language": "python",
     "metadata": {},
     "outputs": [
      {
       "output_type": "pyout",
       "prompt_number": 157,
       "text": [
        "['a', 'mpilgrim', 'foo', 'c']"
       ]
      }
     ],
     "prompt_number": 157
    },
    {
     "cell_type": "heading",
     "level": 2,
     "metadata": {},
     "source": [
      "The peculiar nature of 'and' and 'or'!"
     ]
    },
    {
     "cell_type": "code",
     "collapsed": false,
     "input": [
      "# and\n",
      "'a' and 'b'"
     ],
     "language": "python",
     "metadata": {},
     "outputs": [
      {
       "output_type": "pyout",
       "prompt_number": 165,
       "text": [
        "'b'"
       ]
      }
     ],
     "prompt_number": 165
    },
    {
     "cell_type": "code",
     "collapsed": false,
     "input": [
      "# '', 0, [], {}, and None are false in a boolean context\n",
      "'' and 'b'"
     ],
     "language": "python",
     "metadata": {},
     "outputs": [
      {
       "output_type": "pyout",
       "prompt_number": 162,
       "text": [
        "''"
       ]
      }
     ],
     "prompt_number": 162
    },
    {
     "cell_type": "code",
     "collapsed": false,
     "input": [
      "'a' and 'b' and 'c'"
     ],
     "language": "python",
     "metadata": {},
     "outputs": [
      {
       "output_type": "pyout",
       "prompt_number": 160,
       "text": [
        "'c'"
       ]
      }
     ],
     "prompt_number": 160
    },
    {
     "cell_type": "code",
     "collapsed": false,
     "input": [
      "# values are evaluated from left to right, returns the last value if true.\n",
      "'a' and 'c' and 'b'"
     ],
     "language": "python",
     "metadata": {},
     "outputs": [
      {
       "output_type": "pyout",
       "prompt_number": 164,
       "text": [
        "'b'"
       ]
      }
     ],
     "prompt_number": 164
    },
    {
     "cell_type": "code",
     "collapsed": false,
     "input": [
      "# or\n",
      "# 'or' also evaluates left to right, but returns the first true value.\n",
      "'a' or 'b'"
     ],
     "language": "python",
     "metadata": {},
     "outputs": [
      {
       "output_type": "pyout",
       "prompt_number": 166,
       "text": [
        "'a'"
       ]
      }
     ],
     "prompt_number": 166
    },
    {
     "cell_type": "code",
     "collapsed": false,
     "input": [
      "'' or 'b'"
     ],
     "language": "python",
     "metadata": {},
     "outputs": [
      {
       "output_type": "pyout",
       "prompt_number": 167,
       "text": [
        "'b'"
       ]
      }
     ],
     "prompt_number": 167
    },
    {
     "cell_type": "code",
     "collapsed": false,
     "input": [
      "'' or [] or {}"
     ],
     "language": "python",
     "metadata": {},
     "outputs": [
      {
       "output_type": "pyout",
       "prompt_number": 168,
       "text": [
        "{}"
       ]
      }
     ],
     "prompt_number": 168
    },
    {
     "cell_type": "code",
     "collapsed": false,
     "input": [
      "def sidefx():\n",
      "    print \"in sidefx()\"\n",
      "    return 1\n",
      "'a' or sidefx()"
     ],
     "language": "python",
     "metadata": {},
     "outputs": [
      {
       "output_type": "pyout",
       "prompt_number": 169,
       "text": [
        "'a'"
       ]
      }
     ],
     "prompt_number": 169
    },
    {
     "cell_type": "code",
     "collapsed": false,
     "input": [
      "# using the and-or trick\n",
      "# remember left to right evaluation for 'and' and 'or'\n",
      "# value returned is the value that makes the boolean true"
     ],
     "language": "python",
     "metadata": {},
     "outputs": [],
     "prompt_number": 170
    },
    {
     "cell_type": "code",
     "collapsed": false,
     "input": [
      "a = 'first'\n",
      "b = 'second'\n",
      "1 and a or b"
     ],
     "language": "python",
     "metadata": {},
     "outputs": [
      {
       "output_type": "pyout",
       "prompt_number": 1,
       "text": [
        "'first'"
       ]
      }
     ],
     "prompt_number": 1
    },
    {
     "cell_type": "code",
     "collapsed": false,
     "input": [
      "0 and a or b"
     ],
     "language": "python",
     "metadata": {},
     "outputs": [
      {
       "output_type": "pyout",
       "prompt_number": 2,
       "text": [
        "'second'"
       ]
      }
     ],
     "prompt_number": 2
    },
    {
     "cell_type": "code",
     "collapsed": false,
     "input": [
      "# take note of 'false' or empty value\n",
      "a = \"\"\n",
      "b = \"second\"\n",
      "1 and a or b"
     ],
     "language": "python",
     "metadata": {},
     "outputs": [
      {
       "output_type": "pyout",
       "prompt_number": 3,
       "text": [
        "'second'"
       ]
      }
     ],
     "prompt_number": 3
    },
    {
     "cell_type": "code",
     "collapsed": false,
     "input": [
      "# This result is logically true, but maybe an empty string is a valid value.\n",
      "a = \"\"\n",
      "b = \"second\"\n",
      "(1 and [a] or [b])[0]"
     ],
     "language": "python",
     "metadata": {},
     "outputs": [
      {
       "output_type": "pyout",
       "prompt_number": 4,
       "text": [
        "''"
       ]
      }
     ],
     "prompt_number": 4
    },
    {
     "cell_type": "heading",
     "level": 2,
     "metadata": {},
     "source": [
      "lambda functions"
     ]
    },
    {
     "cell_type": "code",
     "collapsed": false,
     "input": [
      "# define a function\n",
      "def f(x):\n",
      "    return x ** 2\n",
      "\n",
      "f(3)"
     ],
     "language": "python",
     "metadata": {},
     "outputs": [
      {
       "output_type": "pyout",
       "prompt_number": 5,
       "text": [
        "9"
       ]
      }
     ],
     "prompt_number": 5
    },
    {
     "cell_type": "code",
     "collapsed": false,
     "input": [
      "g = lambda x: x ** 2\n",
      "    \n",
      "g(3)"
     ],
     "language": "python",
     "metadata": {},
     "outputs": [
      {
       "output_type": "pyout",
       "prompt_number": 6,
       "text": [
        "9"
       ]
      }
     ],
     "prompt_number": 6
    },
    {
     "cell_type": "code",
     "collapsed": false,
     "input": [
      "g(4)"
     ],
     "language": "python",
     "metadata": {},
     "outputs": [
      {
       "output_type": "pyout",
       "prompt_number": 7,
       "text": [
        "16"
       ]
      }
     ],
     "prompt_number": 7
    },
    {
     "cell_type": "code",
     "collapsed": false,
     "input": [
      "(lambda x: x ** 2)(3)"
     ],
     "language": "python",
     "metadata": {},
     "outputs": [
      {
       "output_type": "pyout",
       "prompt_number": 18,
       "text": [
        "9"
       ]
      }
     ],
     "prompt_number": 18
    },
    {
     "cell_type": "code",
     "collapsed": false,
     "input": [
      "g"
     ],
     "language": "python",
     "metadata": {},
     "outputs": [
      {
       "output_type": "pyout",
       "prompt_number": 8,
       "text": [
        "<function __main__.<lambda>>"
       ]
      }
     ],
     "prompt_number": 8
    },
    {
     "cell_type": "code",
     "collapsed": false,
     "input": [
      "dir(f)"
     ],
     "language": "python",
     "metadata": {},
     "outputs": [
      {
       "output_type": "pyout",
       "prompt_number": 15,
       "text": [
        "['__call__',\n",
        " '__class__',\n",
        " '__closure__',\n",
        " '__code__',\n",
        " '__defaults__',\n",
        " '__delattr__',\n",
        " '__dict__',\n",
        " '__doc__',\n",
        " '__format__',\n",
        " '__get__',\n",
        " '__getattribute__',\n",
        " '__globals__',\n",
        " '__hash__',\n",
        " '__init__',\n",
        " '__module__',\n",
        " '__name__',\n",
        " '__new__',\n",
        " '__reduce__',\n",
        " '__reduce_ex__',\n",
        " '__repr__',\n",
        " '__setattr__',\n",
        " '__sizeof__',\n",
        " '__str__',\n",
        " '__subclasshook__',\n",
        " 'func_closure',\n",
        " 'func_code',\n",
        " 'func_defaults',\n",
        " 'func_dict',\n",
        " 'func_doc',\n",
        " 'func_globals',\n",
        " 'func_name']"
       ]
      }
     ],
     "prompt_number": 15
    },
    {
     "cell_type": "code",
     "collapsed": false,
     "input": [
      "dir(g)"
     ],
     "language": "python",
     "metadata": {},
     "outputs": [
      {
       "output_type": "pyout",
       "prompt_number": 16,
       "text": [
        "['__call__',\n",
        " '__class__',\n",
        " '__closure__',\n",
        " '__code__',\n",
        " '__defaults__',\n",
        " '__delattr__',\n",
        " '__dict__',\n",
        " '__doc__',\n",
        " '__format__',\n",
        " '__get__',\n",
        " '__getattribute__',\n",
        " '__globals__',\n",
        " '__hash__',\n",
        " '__init__',\n",
        " '__module__',\n",
        " '__name__',\n",
        " '__new__',\n",
        " '__reduce__',\n",
        " '__reduce_ex__',\n",
        " '__repr__',\n",
        " '__setattr__',\n",
        " '__sizeof__',\n",
        " '__str__',\n",
        " '__subclasshook__',\n",
        " 'func_closure',\n",
        " 'func_code',\n",
        " 'func_defaults',\n",
        " 'func_dict',\n",
        " 'func_doc',\n",
        " 'func_globals',\n",
        " 'func_name']"
       ]
      }
     ],
     "prompt_number": 16
    },
    {
     "cell_type": "code",
     "collapsed": false,
     "input": [
      "print g.__getattribute__"
     ],
     "language": "python",
     "metadata": {},
     "outputs": [
      {
       "output_type": "stream",
       "stream": "stdout",
       "text": [
        "<method-wrapper '__getattribute__' of function object at 0x10dfce320>\n"
       ]
      }
     ],
     "prompt_number": 17
    },
    {
     "cell_type": "code",
     "collapsed": false,
     "input": [
      "# lambda function with multiple arguments\n",
      "h = lambda x, y : x + y\n",
      "h(2, 3)"
     ],
     "language": "python",
     "metadata": {},
     "outputs": [
      {
       "output_type": "pyout",
       "prompt_number": 20,
       "text": [
        "5"
       ]
      }
     ],
     "prompt_number": 20
    },
    {
     "cell_type": "code",
     "collapsed": false,
     "input": [
      "# lambda function example from apihelper.py\n",
      "# processFunc can be one of two functions dependent on the value of collapse\n",
      "processFunc = collapse and (lambda s: \" \".join(s.split())) or (lambda s: s)\n",
      "processFunc"
     ],
     "language": "python",
     "metadata": {},
     "outputs": [
      {
       "output_type": "pyout",
       "prompt_number": 56,
       "text": [
        "<function __main__.<lambda>>"
       ]
      }
     ],
     "prompt_number": 56
    },
    {
     "cell_type": "code",
     "collapsed": false,
     "input": [
      "# if collapse is true ie 1 then the lambda function will work on s to collapse the whitespace\n",
      "collapse = 1\n",
      "s = \"\"\"bob \n",
      "        tim \n",
      "        hazel \n",
      "        smith\"\"\"\n",
      "print processFunc(s)"
     ],
     "language": "python",
     "metadata": {},
     "outputs": [
      {
       "output_type": "stream",
       "stream": "stdout",
       "text": [
        "bob tim hazel smith\n"
       ]
      }
     ],
     "prompt_number": 57
    },
    {
     "cell_type": "code",
     "collapsed": false,
     "input": [
      "# lambda function example from apihelper.py\n",
      "# if collapse is false ie 0 then s will be returned unchanged\n",
      "collapse = 0\n",
      "processFunc = collapse and (lambda s: \" \".join(s.split())) or (lambda s: s)\n",
      "s = \"\"\"bob \n",
      "        tim \n",
      "        hazel \n",
      "        smith\"\"\"\n",
      "print processFunc(s)"
     ],
     "language": "python",
     "metadata": {},
     "outputs": [
      {
       "output_type": "stream",
       "stream": "stdout",
       "text": [
        "bob \n",
        "        tim \n",
        "        hazel \n",
        "        smith\n"
       ]
      }
     ],
     "prompt_number": 58
    },
    {
     "cell_type": "code",
     "collapsed": false,
     "input": [
      "# breaking that down, as I don't understand it!\n",
      "s = \" this         is\\na\\ttest\"\n",
      "print s"
     ],
     "language": "python",
     "metadata": {},
     "outputs": [
      {
       "output_type": "stream",
       "stream": "stdout",
       "text": [
        " this         is\n",
        "a\ttest\n"
       ]
      }
     ],
     "prompt_number": 37
    },
    {
     "cell_type": "code",
     "collapsed": false,
     "input": [
      "print s.split()"
     ],
     "language": "python",
     "metadata": {},
     "outputs": [
      {
       "output_type": "stream",
       "stream": "stdout",
       "text": [
        "['this', 'is', 'a', 'test']\n"
       ]
      }
     ],
     "prompt_number": 38
    },
    {
     "cell_type": "code",
     "collapsed": false,
     "input": [
      "print \" \".join(s.split())"
     ],
     "language": "python",
     "metadata": {},
     "outputs": [
      {
       "output_type": "stream",
       "stream": "stdout",
       "text": [
        "this is a test\n"
       ]
      }
     ],
     "prompt_number": 39
    },
    {
     "cell_type": "code",
     "collapsed": false,
     "input": [
      "s = \"\"\"bob \n",
      "        tim \n",
      "        hazel \n",
      "        smith\"\"\"\n",
      "print s"
     ],
     "language": "python",
     "metadata": {},
     "outputs": [
      {
       "output_type": "stream",
       "stream": "stdout",
       "text": [
        "bob \n",
        "        tim \n",
        "        hazel \n",
        "        smith\n"
       ]
      }
     ],
     "prompt_number": 40
    },
    {
     "cell_type": "code",
     "collapsed": false,
     "input": [
      "print s.split()"
     ],
     "language": "python",
     "metadata": {},
     "outputs": [
      {
       "output_type": "stream",
       "stream": "stdout",
       "text": [
        "['bob', 'tim', 'hazel', 'smith']\n"
       ]
      }
     ],
     "prompt_number": 41
    },
    {
     "cell_type": "code",
     "collapsed": false,
     "input": [
      "print \" \".join(s.split())"
     ],
     "language": "python",
     "metadata": {},
     "outputs": [
      {
       "output_type": "stream",
       "stream": "stdout",
       "text": [
        "bob tim hazel smith\n"
       ]
      }
     ],
     "prompt_number": 43
    },
    {
     "cell_type": "heading",
     "level": 2,
     "metadata": {},
     "source": [
      "Putting apihelper.py together"
     ]
    },
    {
     "cell_type": "raw",
     "metadata": {},
     "source": [
      "The main code is:\n",
      "print \"\\n\".join([\"%s %s\" %\n",
      "                      (method.ljust(spacing),\n",
      "                       processFunc(str(getattr(object, method).__doc__)))\n",
      "                     for method in methodList])"
     ]
    },
    {
     "cell_type": "raw",
     "metadata": {},
     "source": [
      "for method in methodList is a list comprehension for all the methods in the passed object"
     ]
    },
    {
     "cell_type": "code",
     "collapsed": false,
     "input": [
      "# getting a doc string dynamically\n",
      "import odbchelper\n",
      "object = odbchelper\n",
      "method = 'buildConnectionString'\n",
      "print getattr(object, method)"
     ],
     "language": "python",
     "metadata": {},
     "outputs": [
      {
       "output_type": "stream",
       "stream": "stdout",
       "text": [
        "<function buildConnectionString at 0x10e42ca28>\n"
       ]
      }
     ],
     "prompt_number": 61
    },
    {
     "cell_type": "code",
     "collapsed": false,
     "input": [
      "print getattr(object, method).__doc__"
     ],
     "language": "python",
     "metadata": {},
     "outputs": [
      {
       "output_type": "stream",
       "stream": "stdout",
       "text": [
        "Build a connection string from a dictionary of parameters.\n",
        "\n",
        "\tReturns string.\n"
       ]
      }
     ],
     "prompt_number": 62
    },
    {
     "cell_type": "code",
     "collapsed": false,
     "input": [
      "# why str on a doc string?\n",
      "# because if a function has no doc string it's __doc__ attribute is None\n",
      "def foo(): print 2\n",
      "foo()"
     ],
     "language": "python",
     "metadata": {},
     "outputs": [
      {
       "output_type": "stream",
       "stream": "stdout",
       "text": [
        "2\n"
       ]
      }
     ],
     "prompt_number": 64
    },
    {
     "cell_type": "code",
     "collapsed": false,
     "input": [
      "print foo.__doc__"
     ],
     "language": "python",
     "metadata": {},
     "outputs": [
      {
       "output_type": "stream",
       "stream": "stdout",
       "text": [
        "None\n"
       ]
      }
     ],
     "prompt_number": 65
    },
    {
     "cell_type": "code",
     "collapsed": false,
     "input": [
      "# or\n",
      "foo.__doc__ == None"
     ],
     "language": "python",
     "metadata": {},
     "outputs": [
      {
       "output_type": "pyout",
       "prompt_number": 66,
       "text": [
        "True"
       ]
      }
     ],
     "prompt_number": 66
    },
    {
     "cell_type": "code",
     "collapsed": false,
     "input": [
      "str(foo.__doc__)"
     ],
     "language": "python",
     "metadata": {},
     "outputs": [
      {
       "output_type": "pyout",
       "prompt_number": 67,
       "text": [
        "'None'"
       ]
      }
     ],
     "prompt_number": 67
    },
    {
     "cell_type": "code",
     "collapsed": false,
     "input": [
      "# ljust pads a string to a given length\n",
      "s = 'buildConnectionString'\n",
      "s.ljust(30)"
     ],
     "language": "python",
     "metadata": {},
     "outputs": [
      {
       "output_type": "pyout",
       "prompt_number": 68,
       "text": [
        "'buildConnectionString         '"
       ]
      }
     ],
     "prompt_number": 68
    },
    {
     "cell_type": "code",
     "collapsed": false,
     "input": [
      "s.ljust(40)"
     ],
     "language": "python",
     "metadata": {},
     "outputs": [
      {
       "output_type": "pyout",
       "prompt_number": 71,
       "text": [
        "'buildConnectionString                   '"
       ]
      }
     ],
     "prompt_number": 71
    },
    {
     "cell_type": "code",
     "collapsed": false,
     "input": [
      "s.ljust(10)"
     ],
     "language": "python",
     "metadata": {},
     "outputs": [
      {
       "output_type": "pyout",
       "prompt_number": 70,
       "text": [
        "'buildConnectionString'"
       ]
      }
     ],
     "prompt_number": 70
    },
    {
     "cell_type": "code",
     "collapsed": false,
     "input": [
      "# and finally printing the list\n",
      "li = ['a', 'b', 'c']\n",
      "print \"\\n\".join(li)"
     ],
     "language": "python",
     "metadata": {},
     "outputs": [
      {
       "output_type": "stream",
       "stream": "stdout",
       "text": [
        "a\n",
        "b\n",
        "c\n"
       ]
      }
     ],
     "prompt_number": 72
    },
    {
     "cell_type": "code",
     "collapsed": false,
     "input": [
      "# summary\n",
      "from apihelper import info\n",
      "li = []\n",
      "info(li)"
     ],
     "language": "python",
     "metadata": {},
     "outputs": [
      {
       "output_type": "stream",
       "stream": "stdout",
       "text": [
        "__add__    x.__add__(y) <==> x+y\n",
        "__class__  list() -> new empty list list(iterable) -> new list initialized from iterable's items\n",
        "__contains__ x.__contains__(y) <==> y in x\n",
        "__delattr__ x.__delattr__('name') <==> del x.name\n",
        "__delitem__ x.__delitem__(y) <==> del x[y]\n",
        "__delslice__ x.__delslice__(i, j) <==> del x[i:j] Use of negative indices is not supported.\n",
        "__eq__     x.__eq__(y) <==> x==y\n",
        "__format__ default object formatter\n",
        "__ge__     x.__ge__(y) <==> x>=y\n",
        "__getattribute__ x.__getattribute__('name') <==> x.name\n",
        "__getitem__ x.__getitem__(y) <==> x[y]\n",
        "__getslice__ x.__getslice__(i, j) <==> x[i:j] Use of negative indices is not supported.\n",
        "__gt__     x.__gt__(y) <==> x>y\n",
        "__iadd__   x.__iadd__(y) <==> x+=y\n",
        "__imul__   x.__imul__(y) <==> x*=y\n",
        "__init__   x.__init__(...) initializes x; see help(type(x)) for signature\n",
        "__iter__   x.__iter__() <==> iter(x)\n",
        "__le__     x.__le__(y) <==> x<=y\n",
        "__len__    x.__len__() <==> len(x)\n",
        "__lt__     x.__lt__(y) <==> x<y\n",
        "__mul__    x.__mul__(n) <==> x*n\n",
        "__ne__     x.__ne__(y) <==> x!=y\n",
        "__new__    T.__new__(S, ...) -> a new object with type S, a subtype of T\n",
        "__reduce__ helper for pickle\n",
        "__reduce_ex__ helper for pickle\n",
        "__repr__   x.__repr__() <==> repr(x)\n",
        "__reversed__ L.__reversed__() -- return a reverse iterator over the list\n",
        "__rmul__   x.__rmul__(n) <==> n*x\n",
        "__setattr__ x.__setattr__('name', value) <==> x.name = value\n",
        "__setitem__ x.__setitem__(i, y) <==> x[i]=y\n",
        "__setslice__ x.__setslice__(i, j, y) <==> x[i:j]=y Use of negative indices is not supported.\n",
        "__sizeof__ L.__sizeof__() -- size of L in memory, in bytes\n",
        "__str__    x.__str__() <==> str(x)\n",
        "__subclasshook__ Abstract classes can override this to customize issubclass(). This is invoked early on by abc.ABCMeta.__subclasscheck__(). It should return True, False or NotImplemented. If it returns NotImplemented, the normal algorithm is used. Otherwise, it overrides the normal algorithm (and the outcome is cached).\n",
        "append     L.append(object) -- append object to end\n",
        "count      L.count(value) -> integer -- return number of occurrences of value\n",
        "extend     L.extend(iterable) -- extend list by appending elements from the iterable\n",
        "index      L.index(value, [start, [stop]]) -> integer -- return first index of value. Raises ValueError if the value is not present.\n",
        "insert     L.insert(index, object) -- insert object before index\n",
        "pop        L.pop([index]) -> item -- remove and return item at index (default last). Raises IndexError if list is empty or index is out of range.\n",
        "remove     L.remove(value) -- remove first occurrence of value. Raises ValueError if the value is not present.\n",
        "reverse    L.reverse() -- reverse *IN PLACE*\n",
        "sort       L.sort(cmp=None, key=None, reverse=False) -- stable sort *IN PLACE*; cmp(x, y) -> -1, 0, 1\n"
       ]
      }
     ],
     "prompt_number": 73
    },
    {
     "cell_type": "heading",
     "level": 1,
     "metadata": {},
     "source": [
      "Chapter 5 - objects and object-orientation"
     ]
    },
    {
     "cell_type": "code",
     "collapsed": false,
     "input": [
      "\"\"\"Framework for getting filetype-specific metadata.\n",
      "\t\n",
      "Instantiate appropriate class with filename. Returned object acts like a\n",
      "dictionary, with key-value pairs for each piece of metadata.\n",
      "\timport fileinfo\n",
      "\tinfo = fileinfo.MP3FileInfo(\"/music/ap/mahadeva.mp3\")\n",
      "\tprint \"\\\\n\".join([\"%s=%s\" % (k, v) for k, v in info.items()])\n",
      "\n",
      "Or use listDirectory function to get info on all files in a directory.\n",
      "\tfor info in fileinfo.listDirectory(\"/music/ap/\", [\".mp3\"]):\n",
      "\t\t...\n",
      "\n",
      "Framework can be extended by adding classes for particular file types e.g.\n",
      "HTMLFileInfo, MPGFileInfo, DOCFileInfo. Each class is completely responsible for\n",
      "parsing its files appropriately; see MP3FileInfo for example.\n",
      "\"\"\"\n",
      "\n",
      "import os\n",
      "import sys\n",
      "from UserDict import UserDict\n",
      "\n",
      "def stripnulls(data):\n",
      "\t\"\"\"strip whitespaces and nulls\"\"\"\n",
      "\treturn data.replace(\"\\00\", \"\").strip()\n",
      "\n",
      "class FileInfo(UserDict):\n",
      "\t\"\"\"store file metadata\"\"\"\n",
      "\tdef __init__(self, filename=None):\n",
      "\t\tUserDict.__init__(self)\n",
      "\t\tself[\"name\"] = filename\n",
      "\n",
      "class MP3FileInfo(FileInfo):\n",
      "\t\"\"\"store ID3v1.0 MP3 tags\"\"\"\n",
      "\ttagDataMap = {\t\"title\"\t\t:\t(\t3, \t33,\t\tstripnulls),\n",
      "\t\t\t\t\t\"artist\"\t:\t(\t33,\t63,\t\tstripnulls),\n",
      "\t\t\t\t\t\"album\"\t\t:\t(\t63,\t93,\t\tstripnulls),\n",
      "\t\t\t\t\t\"year\"\t\t:\t(\t93,\t97,\t\tstripnulls),\n",
      "\t\t\t\t\t\"comment\"\t:\t(\t97,\t126,\tstripnulls),\n",
      "\t\t\t\t\t\"genre\"\t\t: \t(\t126,128,\tord)\n",
      "\t}\n",
      "\n",
      "\tdef __parse(self, filename):\n",
      "\t\t\"\"\"parse ID3v1.0 tags from MP3 file\"\"\"\n",
      "\t\tself.clear()\n",
      "\t\ttry:\n",
      "\t\t\tfsock = open(filename, \"rb\", 0)\n",
      "\t\t\ttry:\n",
      "\t\t\t\tfsock.seek(-128, 2)\n",
      "\t\t\t\ttagdata = fsock.read(128)\n",
      "\t\t\tfinally:\n",
      "\t\t\t\tfsock.close()\n",
      "\t\t\tif tagdata[:3] == \"TAG\":\n",
      "\t\t\t\tfor tag, (start, end, parseFunc) in self.tagDataMap.items():\n",
      "\t\t\t\t\tself[tag] = parseFunc(tagdata[start:end])\n",
      "\t\texcept IOError:\n",
      "\t\t\tpass\n",
      "\n",
      "\t\tdef __setitem__(self, key, item):\n",
      "\t\t\tif key == \"name\" and item:\n",
      "\t\t\t\tself.__parse(item)\n",
      "\t\t\tFileInfo.__setitem__(self, key, item)\n",
      "\n",
      "def listDirectory(directory, fileExtList):\n",
      "\t\"\"\"get list of file info objects for files of particular extensions\"\"\"\n",
      "\tfileList = [os.path.normcase(f)\n",
      "\t\t\t\tfor f in os.listdir(directory)]\n",
      "\tprint fileList\n",
      "\tfileList = [os.path.join(directory, f)\n",
      "\t\t\t\tfor f in fileList\n",
      "\t\t\t\tif os.path.splitext(f)[1] in fileExtList]\n",
      "\tprint fileList\n",
      "\tdef getFileInfoClass(filename, module = sys.modules[FileInfo.__module__]):\n",
      "\t\t\"\"\"get file info class from filename extension\"\"\"\n",
      "\t\tsubclass = \"%sFileInfo\" % os.path.splitext(filename)[1].upper()[1:]\n",
      "\t\treturn hasattr(module, subclass) and getattr(module, subclass) or FileInfo\n",
      "\treturn [getFileInfoClass(f)(f) for f in fileList]\n",
      "\n",
      "\n",
      "if __name__ == \"__main__\":\n",
      "\tfor info in listDirectory(\"/Users/mikemcfarlane/Dropbox/Code/Local/NAO/Aldebaran_sounds/\", [\".mp3\"]):\n",
      "\t\tprint \"\\n\".join([\"%s=%s\" % (k, v) for k, v in info.items()])\n",
      "\t\tprint\n",
      "\n",
      "\t\t\n"
     ],
     "language": "python",
     "metadata": {},
     "outputs": [
      {
       "output_type": "stream",
       "stream": "stdout",
       "text": [
        "['!PlaceHereSoundThatHaveFreeLicenceOrWeveMadeOurself', 'ahouai1.wav', 'ahouai2.wav', 'aie_fast.wav', 'aie_hard.wav', 'angry1.wav', 'angry2.wav', 'angry3.wav', 'angry4.wav', 'angry5.wav', 'angry6.wav', 'angry7.wav', 'angry8.wav', 'angry8_short.wav', 'applause1.wav', 'appMail1.wav', 'appMail10.wav', 'appMail11.wav', 'appMail12.wav', 'appMail13.wav', 'appMail14.wav', 'appMail15.wav', 'appMail2.wav', 'appMail3.wav', 'appMail4.wav', 'appMail5.wav', 'appMail6.wav', 'appMail7.wav', 'appMail8.wav', 'appMail8_short1.wav', 'appMail8_short2.wav', 'appMail8_short3.wav', 'appMail8_short4.wav', 'appMail8_short5.wav', 'appMail8_short6.wav', 'appMail9.wav', 'appMailSend1.wav', 'appMailSend2.wav', 'appMailSend3.wav', 'batonPluie1.wav', 'batonPluie2.wav', 'batonPluie3.wav', 'batonPluie4.wav', 'bip1.wav', 'bipReco1.wav', 'bipReco10.wav', 'bipReco11.wav', 'bipReco12.wav', 'bipReco13.wav', 'bipReco14.wav', 'bipReco2.wav', 'bipReco2grave.wav', 'bipReco4.wav', 'bipReco5.wav', 'bipReco8.wav', 'bipReco9.wav', 'boing1.wav', 'boing2.wav', 'boing3.wav', 'bonesCrack.wav', 'borbo1.wav', 'borbo2.wav', 'borbo3.wav', 'borbo4.wav', 'borbo5.wav', 'borbo6.wav', 'borbo7.wav', 'borbo8.wav', 'borbo_currentprotection.wav', 'bouh1.wav', 'bouh2.wav', 'carStart.wav', 'cartoonFall1.wav', 'cartoonFall2.wav', 'cartoonFall3.wav', 'chimes1.wav', 'clock1.wav', 'coinGround1.wav', 'coinGround2.wav', 'coinGround3.wav', 'coinGround4.wav', 'coinGround5.wav', 'coinGround6.wav', 'coinPlastic1.wav', 'coinPlastic2.wav', 'coinPlastic3.wav', 'coinPlate1.wav', 'coinPlate10.wav', 'coinPlate11.wav', 'coinPlate2.wav', 'coinPlate3.wav', 'coinPlate4.wav', 'coinPlate5.wav', 'coinPlate6.wav', 'coinPlate7.wav', 'coinPlate8.wav', 'coinPlate9.wav', 'contentement1.wav', 'contentement2.wav', 'contentement3.wav', 'contentement4.wav', 'contentement5.wav', 'cough1.wav', 'cough10.wav', 'cough11.wav', 'cough12.wav', 'cough2.wav', 'cough3.wav', 'cough4.wav', 'cough5.wav', 'cough6.wav', 'cough7.wav', 'cough8.wav', 'cough9.wav', 'cow1.wav', 'crickets1.wav', 'cry1.wav', 'eto1.wav', 'eto10.wav', 'eto11.wav', 'eto12.wav', 'eto13.wav', 'eto2.wav', 'eto3.wav', 'eto4.wav', 'eto5.wav', 'eto6.wav', 'eto7.wav', 'eto8.wav', 'eto9.wav', 'fly.wav', 'foule1.wav', 'foule2.wav', 'foule3.wav', 'gargouillis1.wav', 'gargouillis2.wav', 'gargouillis3.wav', 'gargouillis4.wav', 'gargouillis5.wav', 'gargouillis6.wav', 'goingUp.wav', 'ha1.wav', 'hearthbeat1.wav', 'heavyMetal1.wav', 'hey1.wav', 'hey10.wav', 'hey11.wav', 'hey12.wav', 'hey13.wav', 'hey14.wav', 'hey15.wav', 'hey16.wav', 'hey17.wav', 'hey18.wav', 'hey19.wav', 'hey2.wav', 'hey3.wav', 'hey4.wav', 'hey5.wav', 'hey6.wav', 'hey7.wav', 'hey8.wav', 'hey9.wav', 'hiphop_clap.wav', 'hiphop_gc.wav', 'hiphop_scratch.wav', 'hiphop_snare.wav', 'ho1.wav', 'hu1.wav', 'interested1.wav', 'interested2.wav', 'interested3.wav', 'interested3_normalised.wav', 'interested4.wav', 'interested5.wav', 'interested6.wav', 'interested7.wav', 'interested8.wav', 'laugh1.wav', 'laugh10.wav', 'laugh11.wav', 'laugh12.wav', 'laugh13.wav', 'laugh14.wav', 'laugh15.wav', 'laugh16.wav', 'laugh17.wav', 'laugh18.wav', 'laugh19.wav', 'laugh2.wav', 'laugh20.wav', 'laugh21.wav', 'laugh22.wav', 'laugh23.wav', 'laugh24.wav', 'laugh25.wav', 'laugh26.wav', 'laugh27.wav', 'laugh28.wav', 'laugh29.wav', 'laugh3.wav', 'laugh30.wav', 'laugh4.wav', 'laugh5.wav', 'laugh6.wav', 'laugh7.wav', 'laugh8.wav', 'laugh9.wav', 'melodie_simple_1.wav', 'melodie_simple_2.wav', 'melodie_simple_3.wav', 'melodie_simple_4.wav', 'metro1.wav', 'misunderstood1.wav', 'misunderstood10.wav', 'misunderstood11.wav', 'misunderstood2.wav', 'misunderstood3.wav', 'misunderstood4.wav', 'misunderstood5.wav', 'misunderstood6.wav', 'misunderstood7.wav', 'misunderstood8.wav', 'misunderstood9.wav', 'musicStop.wav', 'mystic1.wav', 'neonOff.wav', 'neonOn.wav', 'oh_cest_quoi_ca1.wav', 'oh_cest_quoi_ca2.wav', 'oh_cest_quoi_ca3.wav', 'oh_cest_quoi_ca4.wav', 'oh_cest_quoi_ca5.wav', 'oh_cest_quoi_ca6.wav', 'oui_cest_ca.wav', 'pee.wav', 'pee2.wav', 'pee3.wav', 'pee4.wav', 'poo1.wav', 'poute2.wav', 'prout1.wav', 'psst1.wav', 'psst2.wav', 'psst3.wav', 'psst4.wav', 'psst5.wav', 'psst6.wav', 'psst7.wav', 'psst8.wav', 'psst9.wav', 'rame.wav', 'relieved1.wav', 'roh1.wav', 'sarcasticLaught1.wav', 'sarcasticLaught2.wav', 'sarcasticLaught3.wav', 'sarcasticLaught4.wav', 'sarcasticLaught5.wav', 'sarcasticLaught6.wav', 'sarcasticLaught7.wav', 'sarcasticLaught8.wav', 'sarcasticLaught9.wav', 'scream1.wav', 'shower1.wav', 'shutdown.wav', 'siffle1.wav', 'sneeze1.wav', 'sneeze10.wav', 'sneeze11.wav', 'sneeze12.wav', 'sneeze13.wav', 'sneeze14.wav', 'sneeze15.wav', 'sneeze2.wav', 'sneeze3.wav', 'sneeze4.wav', 'sneeze5.wav', 'sneeze6.wav', 'sneeze7.wav', 'sneeze8.wav', 'sneeze9.wav', 'softened1.wav', 'sonar1.wav', 'soupir1.wav', 'sportBreath1.wav', 'sportBreath2.wav', 'sportBreath3.wav', 'sportBreath4.wav', 'supporters1.wav', 'surprise1.wav', 'surprise2.wav', 'surprise3.wav', 'surprise4.wav', 'swordFight1.wav', 'swordFight2.wav', 'swordFight3.wav', 'talkPub.wav', 'throat1.wav', 'throat10.wav', 'throat11.wav', 'throat12.wav', 'throat2.wav', 'throat3.wav', 'throat4.wav', 'throat5.wav', 'throat6.wav', 'throat7.wav', 'throat8.wav', 'throat9.wav', 'thunder1.wav', 'tibetanChant1.wav', 'transfert1.wav', 'vieEnRose_lala_slow.wav', 'vieEnRose_lyricsFull_medium.wav', 'vieEnRose_lyricsLol_medium.wav', 'vieEnRose_mix1_medium.wav', 'vieEnRose_mix1_slow.wav', 'vieEnRose_mix2_slow.wav', 'vieEnRose_mix3_slow.wav', 'vieEnRose_mix4_slow.wav', 'vieEnRose_music_fast.wav', 'vieEnRose_music_medium.wav', 'vieEnRose_music_slow.wav', 'vieEnRose_music_verySlow.wav', 'vieEnRose_nana_slow.wav', 'vivaldi.mp3', 'vomit1.wav', 'vomit10.wav', 'vomit11.wav', 'vomit12.wav', 'vomit13.wav', 'vomit14.wav', 'vomit15.wav', 'vomit2.wav', 'vomit3.wav', 'vomit4.wav', 'vomit5.wav', 'vomit6.wav', 'vomit7.wav', 'vomit8.wav', 'vomit9.wav', 'wahou1.wav', 'wahou2.wav', 'wahou3.wav', 'wahou4.wav', 'wahou5.wav', 'wahou6.wav', 'wahou7.wav', 'wahou8.wav', 'wahou9.wav', 'waou1.wav', 'warning_life_stuck.wav', 'warning_speech_error.wav', 'waw1.wav', 'waw10.wav', 'waw11.wav', 'waw12.wav', 'waw2.wav', 'waw3.wav', 'waw4.wav', 'waw5.wav', 'waw6.wav', 'waw7.wav', 'waw8.wav', 'waw9.wav', 'weird1.wav', 'weird2.wav', 'whatsthat1.wav', 'whatsthat10.wav', 'whatsthat11.wav', 'whatsthat12.wav', 'whatsthat13.wav', 'whatsthat14.wav', 'whatsthat15.wav', 'whatsthat16.wav', 'whatsthat17.wav', 'whatsthat18.wav', 'whatsthat19.wav', 'whatsthat2.wav', 'whatsthat20.wav', 'whatsthat21.wav', 'whatsthat22.wav', 'whatsthat23.wav', 'whatsthat24.wav', 'whatsthat25.wav', 'whatsthat26.wav', 'whatsthat3.wav', 'whatsthat4.wav', 'whatsthat5.wav', 'whatsthat6.wav', 'whatsthat7.wav', 'whatsthat8.wav', 'whatsthat9.wav', 'wouh1.wav', 'yahaah.wav', 'yahou1.wav', 'yahou10.wav', 'yahou2.wav', 'yahou3.wav', 'yahou4.wav', 'yahou5.wav', 'yahou6.wav', 'yahou7.wav', 'yahou8.wav', 'yahou9.wav', 'yawn1.wav', 'yawn2.wav', 'yawn3.wav', 'yawn4.wav', 'yawn5.wav', 'yeehaah.wav', 'youhou1.wav', 'youhou10.wav', 'youhou11.wav', 'youhou12.wav', 'youhou13.wav', 'youhou14.wav', 'youhou15.wav', 'youhou16.wav', 'youhou17.wav', 'youhou18.wav', 'youhou19.wav', 'youhou2.wav', 'youhou20.wav', 'youhou21.wav', 'youhou22.wav', 'youhou23.wav', 'youhou24.wav', 'youhou25.wav', 'youhou26.wav', 'youhou27.wav', 'youhou28.wav', 'youhou29.wav', 'youhou3.wav', 'youhou30.wav', 'youhou31.wav', 'youhou4.wav', 'youhou5.wav', 'youhou6.wav', 'youhou7.wav', 'youhou8.wav', 'youhou9.wav', 'zip.wav']\n",
        "['/Users/mikemcfarlane/Dropbox/Code/Local/NAO/Aldebaran_sounds/vivaldi.mp3']\n",
        "name=/Users/mikemcfarlane/Dropbox/Code/Local/NAO/Aldebaran_sounds/vivaldi.mp3\n",
        "\n"
       ]
      }
     ],
     "prompt_number": 74
    },
    {
     "cell_type": "code",
     "collapsed": false,
     "input": [],
     "language": "python",
     "metadata": {},
     "outputs": []
    }
   ],
   "metadata": {}
  }
 ]
}