{
 "metadata": {
  "name": "dive_into_python"
 },
 "nbformat": 3,
 "nbformat_minor": 0,
 "worksheets": [
  {
   "cells": [
    {
     "cell_type": "code",
     "collapsed": false,
     "input": [
      "# something I found elsewhere to demonstrate IPython NB:-)\n",
      "from matplotlib.pyplot import *\n",
      "x = linspace(0, 3*pi, 500)\n",
      "plot(x, sin(x))\n",
      "title(\"A simple chirp\")"
     ],
     "language": "python",
     "metadata": {},
     "outputs": [
      {
       "metadata": {},
       "output_type": "pyout",
       "prompt_number": 6,
       "text": [
        "<matplotlib.text.Text at 0x11210d750>"
       ]
      },
      {
       "metadata": {},
       "output_type": "display_data",
       "png": "[encoded data removed]",
       "text": [
        "<matplotlib.figure.Figure at 0x1120fbc10>"
       ]
      }
     ],
     "prompt_number": 6
    },
    {
     "cell_type": "code",
     "collapsed": false,
     "input": [
      "\"\"\" odbchelper.py from diveintopython.pdf, chapter 2 \"\"\"\n",
      "\n",
      "\n",
      "def buildConnectionString(params):\n",
      "\t\"\"\"Build a connection string from a dictionary of parameters.\n",
      "\tReturns string.\"\"\"\n",
      "\n",
      "\treturn \";\".join([\"%s=%s\" % (k, v) for k, v in params.items()])\n",
      "\n",
      "\n",
      "\"\"\" \t__name__ is an attribute of the function.\n",
      "\t\tOther attributes can be accessed with dir(function or library):\n",
      "\t\t__doc__ for the docstring ie the first line of the function in tripple quotes.\n",
      "\t\t__file__ for the filename.\n",
      "\t\t__builtins__ for the built in Python functions.\n",
      "\n",
      "\t\tAnd remember, everything in Python is an object. Functions, modules, lists, variables.\n",
      "\"\"\"\n",
      "\n",
      "def fib(n):\n",
      "\t\"\"\" Prints the Fibonacci series.\n",
      "\t\tReturns the Fibonacci series. \"\"\"\n",
      "\tprint 'n = ', n\n",
      "\tif n > 1:\n",
      "\t\treturn n * fib(n-1)\n",
      "\telse:\n",
      "\t\tprint \"Nothing to see here!\"\n",
      "\t\treturn 1\n",
      "\n",
      "\n",
      "\"\"\" By testing if __name__ is __main__ you can test the module as a standalone piece of code.\n",
      "\tIf the file is run directly the value of __name__ is __main__ so the indented code runs.\n",
      "\tIf the file is imported as a module, the value of name is something else, maybe the name of the file.\n",
      "\t\"\"\"\n",
      "\n",
      "if __name__ == \"__main__\":\n",
      "\n",
      "\tmyParams = {\n",
      "\t\t\"server\" : \"mpilgrim\",\n",
      "\t\t\"database\" : \"master\",\n",
      "\t\t\"uid\" : \"sa\",\n",
      "\t\t\"pwd\" : \"secret\"\n",
      "\t}\n",
      "\n",
      "\tprint buildConnectionString(myParams)\n",
      "\t#print fib(100)\n",
      "\n",
      "\tprint \"Hey, you ran me from the command line!\"\n",
      "\tprint \"You could test me from here.\"\n",
      "\tprint \"My name attribute is: \", __name__\n",
      "\tprint \"Or import me to access the modules functions.\"\n",
      "\t\n",
      "\n",
      "\n"
     ],
     "language": "python",
     "metadata": {},
     "outputs": [
      {
       "output_type": "stream",
       "stream": "stdout",
       "text": [
        "pwd=secret;database=master;uid=sa;server=mpilgrim\n",
        "Hey, you ran me from the command line!\n",
        "You could test me from here.\n",
        "My name attribute is:  __main__\n",
        "Or import me to access the modules functions.\n"
       ]
      }
     ],
     "prompt_number": 1
    },
    {
     "cell_type": "code",
     "collapsed": false,
     "input": [],
     "language": "python",
     "metadata": {},
     "outputs": []
    }
   ],
   "metadata": {}
  }
 ]
}