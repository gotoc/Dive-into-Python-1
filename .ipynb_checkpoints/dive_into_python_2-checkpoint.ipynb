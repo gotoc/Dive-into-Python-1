{
 "metadata": {
  "name": ""
 },
 "nbformat": 3,
 "nbformat_minor": 0,
 "worksheets": [
  {
   "cells": [
    {
     "cell_type": "code",
     "collapsed": false,
     "input": [
      "import this"
     ],
     "language": "python",
     "metadata": {},
     "outputs": [
      {
       "output_type": "stream",
       "stream": "stdout",
       "text": [
        "The Zen of Python, by Tim Peters\n",
        "\n",
        "Beautiful is better than ugly.\n",
        "Explicit is better than implicit.\n",
        "Simple is better than complex.\n",
        "Complex is better than complicated.\n",
        "Flat is better than nested.\n",
        "Sparse is better than dense.\n",
        "Readability counts.\n",
        "Special cases aren't special enough to break the rules.\n",
        "Although practicality beats purity.\n",
        "Errors should never pass silently.\n",
        "Unless explicitly silenced.\n",
        "In the face of ambiguity, refuse the temptation to guess.\n",
        "There should be one-- and preferably only one --obvious way to do it.\n",
        "Although that way may not be obvious at first unless you're Dutch.\n",
        "Now is better than never.\n",
        "Although never is often better than *right* now.\n",
        "If the implementation is hard to explain, it's a bad idea.\n",
        "If the implementation is easy to explain, it may be a good idea.\n",
        "Namespaces are one honking great idea -- let's do more of those!\n"
       ]
      }
     ],
     "prompt_number": 1
    },
    {
     "cell_type": "code",
     "collapsed": false,
     "input": [
      "# imports\n",
      "import unittest"
     ],
     "language": "python",
     "metadata": {},
     "outputs": [],
     "prompt_number": 6
    },
    {
     "cell_type": "heading",
     "level": 2,
     "metadata": {},
     "source": [
      "Chapter 7 - 7.3 Case study roman numerals"
     ]
    },
    {
     "cell_type": "raw",
     "metadata": {},
     "source": [
      "I = 1\n",
      "V = 5\n",
      "X = 10\n",
      "L = 50\n",
      "C = 100\n",
      "D = 500\n",
      "M = 1000"
     ]
    },
    {
     "cell_type": "code",
     "collapsed": false,
     "input": [
      "import re\n",
      "print re.__doc__"
     ],
     "language": "python",
     "metadata": {},
     "outputs": [
      {
       "output_type": "stream",
       "stream": "stdout",
       "text": [
        "Support for regular expressions (RE).\n",
        "\n",
        "This module provides regular expression matching operations similar to\n",
        "those found in Perl.  It supports both 8-bit and Unicode strings; both\n",
        "the pattern and the strings being processed can contain null bytes and\n",
        "characters outside the US ASCII range.\n",
        "\n",
        "Regular expressions can contain both special and ordinary characters.\n",
        "Most ordinary characters, like \"A\", \"a\", or \"0\", are the simplest\n",
        "regular expressions; they simply match themselves.  You can\n",
        "concatenate ordinary characters, so last matches the string 'last'.\n",
        "\n",
        "The special characters are:\n",
        "    \".\"      Matches any character except a newline.\n",
        "    \"^\"      Matches the start of the string.\n",
        "    \"$\"      Matches the end of the string or just before the newline at\n",
        "             the end of the string.\n",
        "    \"*\"      Matches 0 or more (greedy) repetitions of the preceding RE.\n",
        "             Greedy means that it will match as many repetitions as possible.\n",
        "    \"+\"      Matches 1 or more (greedy) repetitions of the preceding RE.\n",
        "    \"?\"      Matches 0 or 1 (greedy) of the preceding RE.\n",
        "    *?,+?,?? Non-greedy versions of the previous three special characters.\n",
        "    {m,n}    Matches from m to n repetitions of the preceding RE.\n",
        "    {m,n}?   Non-greedy version of the above.\n",
        "    \"\\\\\"     Either escapes special characters or signals a special sequence.\n",
        "    []       Indicates a set of characters.\n",
        "             A \"^\" as the first character indicates a complementing set.\n",
        "    \"|\"      A|B, creates an RE that will match either A or B.\n",
        "    (...)    Matches the RE inside the parentheses.\n",
        "             The contents can be retrieved or matched later in the string.\n",
        "    (?iLmsux) Set the I, L, M, S, U, or X flag for the RE (see below).\n",
        "    (?:...)  Non-grouping version of regular parentheses.\n",
        "    (?P<name>...) The substring matched by the group is accessible by name.\n",
        "    (?P=name)     Matches the text matched earlier by the group named name.\n",
        "    (?#...)  A comment; ignored.\n",
        "    (?=...)  Matches if ... matches next, but doesn't consume the string.\n",
        "    (?!...)  Matches if ... doesn't match next.\n",
        "    (?<=...) Matches if preceded by ... (must be fixed length).\n",
        "    (?<!...) Matches if not preceded by ... (must be fixed length).\n",
        "    (?(id/name)yes|no) Matches yes pattern if the group with id/name matched,\n",
        "                       the (optional) no pattern otherwise.\n",
        "\n",
        "The special sequences consist of \"\\\\\" and a character from the list\n",
        "below.  If the ordinary character is not on the list, then the\n",
        "resulting RE will match the second character.\n",
        "    \\number  Matches the contents of the group of the same number.\n",
        "    \\A       Matches only at the start of the string.\n",
        "    \\Z       Matches only at the end of the string.\n",
        "    \\b       Matches the empty string, but only at the start or end of a word.\n",
        "    \\B       Matches the empty string, but not at the start or end of a word.\n",
        "    \\d       Matches any decimal digit; equivalent to the set [0-9].\n",
        "    \\D       Matches any non-digit character; equivalent to the set [^0-9].\n",
        "    \\s       Matches any whitespace character; equivalent to [ \\t\\n\\r\\f\\v].\n",
        "    \\S       Matches any non-whitespace character; equiv. to [^ \\t\\n\\r\\f\\v].\n",
        "    \\w       Matches any alphanumeric character; equivalent to [a-zA-Z0-9_].\n",
        "             With LOCALE, it will match the set [0-9_] plus characters defined\n",
        "             as letters for the current locale.\n",
        "    \\W       Matches the complement of \\w.\n",
        "    \\\\       Matches a literal backslash.\n",
        "\n",
        "This module exports the following functions:\n",
        "    match    Match a regular expression pattern to the beginning of a string.\n",
        "    search   Search a string for the presence of a pattern.\n",
        "    sub      Substitute occurrences of a pattern found in a string.\n",
        "    subn     Same as sub, but also return the number of substitutions made.\n",
        "    split    Split a string by the occurrences of a pattern.\n",
        "    findall  Find all occurrences of a pattern in a string.\n",
        "    finditer Return an iterator yielding a match object for each match.\n",
        "    compile  Compile a pattern into a RegexObject.\n",
        "    purge    Clear the regular expression cache.\n",
        "    escape   Backslash all non-alphanumerics in a string.\n",
        "\n",
        "Some of the functions in this module takes flags as optional parameters:\n",
        "    I  IGNORECASE  Perform case-insensitive matching.\n",
        "    L  LOCALE      Make \\w, \\W, \\b, \\B, dependent on the current locale.\n",
        "    M  MULTILINE   \"^\" matches the beginning of lines (after a newline)\n",
        "                   as well as the string.\n",
        "                   \"$\" matches the end of lines (before a newline) as well\n",
        "                   as the end of the string.\n",
        "    S  DOTALL      \".\" matches any character at all, including the newline.\n",
        "    X  VERBOSE     Ignore whitespace and comments for nicer looking RE's.\n",
        "    U  UNICODE     Make \\w, \\W, \\b, \\B, dependent on the Unicode locale.\n",
        "\n",
        "This module also defines an exception 'error'.\n",
        "\n",
        "\n"
       ]
      }
     ],
     "prompt_number": 3
    },
    {
     "cell_type": "code",
     "collapsed": false,
     "input": [
      "# checking for thousands\n",
      "pattern = '^M?M?M?$'\n",
      "print \"M : %s\" % re.search(pattern, 'M')\n",
      "print \"MM : %s\" % re.search(pattern, 'MM')\n",
      "print \"MMM : %s \" % re.search(pattern, 'MMM')\n",
      "print \"MMMM : %s\" % re.search(pattern, 'MMMM')\n",
      "print \"none : %s\" % re.search(pattern, '')"
     ],
     "language": "python",
     "metadata": {},
     "outputs": [
      {
       "output_type": "stream",
       "stream": "stdout",
       "text": [
        "M : <_sre.SRE_Match object at 0x10da16718>\n",
        "MM : <_sre.SRE_Match object at 0x10da16718>\n",
        "MMM : <_sre.SRE_Match object at 0x10da16718> \n",
        "MMMM : None\n",
        "none : <_sre.SRE_Match object at 0x10da16718>\n"
       ]
      }
     ],
     "prompt_number": 22
    },
    {
     "cell_type": "raw",
     "metadata": {},
     "source": [
      "^ match what follows only at the beginning of the string\n",
      "M? optionally match single M characters\n",
      "$ to match what precedes only at the end of the string, combined with ^ at the begining the patterns must match the entire string with no other characters before or after"
     ]
    },
    {
     "cell_type": "raw",
     "metadata": {},
     "source": [
      "# checking for hundreds\n",
      "\n",
      "100 = C\n",
      "200 = CC\n",
      "300 = CCC\n",
      "400 = CD\n",
      "500 = D\n",
      "600 = DC\n",
      "700 = DCC\n",
      "800 = DCCC\n",
      "900 = CM\n",
      "\n",
      "so four possible patterns\n",
      "CM\n",
      "CD\n",
      "zero to three C characters\n",
      "D, followed to zero to three C characters\n",
      "The last two patterns can be combined, an optional D, followed by zero to three C characters"
     ]
    },
    {
     "cell_type": "code",
     "collapsed": false,
     "input": [
      "pattern = '^M?M?M?(CM|CD|D?C?C?C?)$'\n",
      "print \"MCM : %s\" % re.search(pattern, 'MCM')\n",
      "print \"MD : %s\" % re.search(pattern, 'MD')\n",
      "print \"MMMCCC : %s\" % re.search(pattern, 'MMMCCC')\n",
      "print \"MCMC : %s\" % re.search(pattern, 'MCMC')\n",
      "print \"none : %s\" % re.search(pattern, '')"
     ],
     "language": "python",
     "metadata": {},
     "outputs": [
      {
       "output_type": "stream",
       "stream": "stdout",
       "text": [
        "MCM : <_sre.SRE_Match object at 0x10d5b4120>\n",
        "MD : <_sre.SRE_Match object at 0x10d5b4120>\n",
        "MMMCCC : <_sre.SRE_Match object at 0x10d5b4120>\n",
        "MCMC : None\n",
        "none : <_sre.SRE_Match object at 0x10d5b4120>\n"
       ]
      }
     ],
     "prompt_number": 21
    },
    {
     "cell_type": "heading",
     "level": 2,
     "metadata": {},
     "source": [
      "7.4 Using the {n, m} syntax"
     ]
    },
    {
     "cell_type": "code",
     "collapsed": false,
     "input": [
      "# checking for thousands the old way with every character optional\n",
      "pattern = '^M?M?M?$'\n",
      "print \"M : %s\" % re.search(pattern, 'M')\n",
      "print \"MM : %s\" % re.search(pattern, 'MM')\n",
      "print \"MMM : %s \" % re.search(pattern, 'MMM')\n",
      "print \"MMMM : %s\" % re.search(pattern, 'MMMM')\n",
      "print \"none : %s\" % re.search(pattern, '')"
     ],
     "language": "python",
     "metadata": {},
     "outputs": [
      {
       "output_type": "stream",
       "stream": "stdout",
       "text": [
        "M : <_sre.SRE_Match object at 0x10da163d8>\n",
        "MM : <_sre.SRE_Match object at 0x10da163d8>\n",
        "MMM : <_sre.SRE_Match object at 0x10da163d8> \n",
        "MMMM : None\n",
        "none : <_sre.SRE_Match object at 0x10da163d8>\n"
       ]
      }
     ],
     "prompt_number": 15
    },
    {
     "cell_type": "code",
     "collapsed": false,
     "input": [
      "# another way to check for thousands from n to m\n",
      "pattern = '^M{0,3}$'\n",
      "print \"M : %s\" % re.search(pattern, 'M')\n",
      "print \"MM : %s\" % re.search(pattern, 'MM')\n",
      "print \"MMM : %s \" % re.search(pattern, 'MMM')\n",
      "print \"MMMM : %s\" % re.search(pattern, 'MMMM')\n",
      "print \"none : %s\" % re.search(pattern, '')"
     ],
     "language": "python",
     "metadata": {},
     "outputs": [
      {
       "output_type": "stream",
       "stream": "stdout",
       "text": [
        "M : <_sre.SRE_Match object at 0x10da16578>\n",
        "MM : <_sre.SRE_Match object at 0x10da16578>\n",
        "MMM : <_sre.SRE_Match object at 0x10da16578> \n",
        "MMMM : None\n",
        "none : <_sre.SRE_Match object at 0x10da16578>\n"
       ]
      }
     ],
     "prompt_number": 19
    },
    {
     "cell_type": "code",
     "collapsed": false,
     "input": [
      "# checking for tens, starting to look a little nasty!\n",
      "pattern = '^M?M?M?M?(CM|CD|D?C?C?C?)(XC|XL|L?X?X?X?)$'\n",
      "print \"MCMXL : %s\" % re.search(pattern, 'MCMXL')\n",
      "print \"MCML : %s\" % re.search(pattern, 'MCML')\n",
      "print \"MCMLX: %s\" % re.search(pattern, 'MCMLX')\n",
      "print \"MCMLXXX : %s\" % re.search(pattern, 'MCMLXXX')\n",
      "print \"MCMLXXXX : %s\" % re.search(pattern, 'MCMLXXXX')"
     ],
     "language": "python",
     "metadata": {},
     "outputs": [
      {
       "output_type": "stream",
       "stream": "stdout",
       "text": [
        "MCMXL : <_sre.SRE_Match object at 0x10d4debe0>\n",
        "MCML : <_sre.SRE_Match object at 0x10d4debe0>\n",
        "MCMLX: <_sre.SRE_Match object at 0x10d4debe0>\n",
        "MCMLXXX : <_sre.SRE_Match object at 0x10d4debe0>\n",
        "MCMLXXXX : None\n"
       ]
      }
     ],
     "prompt_number": 24
    },
    {
     "cell_type": "code",
     "collapsed": false,
     "input": [
      "# checking for tens and ones with {n,m}\n",
      "pattern = '^M{0,4}(CM|CD|D?C{0,3})(XC|XL|L?X{0,3})(IX|IV|V?I{0,3})$'\n",
      "print \"MCMXL : %s\" % re.search(pattern, 'MCMXL')\n",
      "print \"MCML : %s\" % re.search(pattern, 'MCML')\n",
      "print \"MCMLX: %s\" % re.search(pattern, 'MCMLX')\n",
      "print \"MCMLXXX : %s\" % re.search(pattern, 'MCMLXXX')\n",
      "print \"MCMLXXXX : %s\" % re.search(pattern, 'MCMLXXXX')"
     ],
     "language": "python",
     "metadata": {},
     "outputs": [
      {
       "output_type": "stream",
       "stream": "stdout",
       "text": [
        "MCMXL : <_sre.SRE_Match object at 0x10d9e14f0>\n",
        "MCML : <_sre.SRE_Match object at 0x10d9e14f0>\n",
        "MCMLX: <_sre.SRE_Match object at 0x10d9e14f0>\n",
        "MCMLXXX : <_sre.SRE_Match object at 0x10d9e14f0>\n",
        "MCMLXXXX : None\n"
       ]
      }
     ],
     "prompt_number": 23
    },
    {
     "cell_type": "code",
     "collapsed": false,
     "input": [
      "# {n,m} is compact, but it can start to get v complex and v hard to understand\n",
      "# so can use verbose regex expressions\n",
      "pattern = \"\"\"\n",
      "    ^            # beginning of string\n",
      "    M{0,4}       # thousands - 0 to 4 Ms\n",
      "    (CM|CD|D?C{0,3})  # hundreds - 900 CM, 400 CD, optional D, 0 to 3 Cs etc\n",
      "    (XC|XL|L?X{0,3})  # tens - 90 XC, 40 XL etc\n",
      "    (IX|IV|V?I{0,3})  # ones - 9 IX, 4 IV etc\n",
      "    $             # end of string\n",
      "    \"\"\"\n",
      "print \"MCMXL : %s\" % re.search(pattern, 'MCMXL', re.VERBOSE)\n",
      "print \"MCML : %s\" % re.search(pattern, 'MCML', re.VERBOSE)\n",
      "print \"MCMLX: %s\" % re.search(pattern, 'MCMLX', re.VERBOSE)\n",
      "print \"MCMLXXX : %s\" % re.search(pattern, 'MCMLXXX', re.VERBOSE)\n",
      "print \"MCMLXXXX : %s\" % re.search(pattern, 'MCMLXXXX', re.VERBOSE)"
     ],
     "language": "python",
     "metadata": {},
     "outputs": [
      {
       "output_type": "stream",
       "stream": "stdout",
       "text": [
        "MCMXL : <_sre.SRE_Match object at 0x10d9e14f0>\n",
        "MCML : <_sre.SRE_Match object at 0x10d9e14f0>\n",
        "MCMLX: <_sre.SRE_Match object at 0x10d9e14f0>\n",
        "MCMLXXX : <_sre.SRE_Match object at 0x10d9e14f0>\n",
        "MCMLXXXX : None\n"
       ]
      }
     ],
     "prompt_number": 26
    },
    {
     "cell_type": "heading",
     "level": 1,
     "metadata": {},
     "source": [
      "Chapter 13 - Unit Testing"
     ]
    },
    {
     "cell_type": "code",
     "collapsed": false,
     "input": [
      "\"\"\" Unit test for roman.py \"\"\"\n",
      "\n",
      "__author__ = \"Mark Pilgrim (mark@diveintopython.org)\"\n",
      "__version__ = \"$Revision: 1.3 $\"\n",
      "__date__ = \"$Date: 2004/05/05 21:57:20 $\"\n",
      "__copyright__ = \"Copyright (c) 2001 Mark Pilgrim\"\n",
      "__license__ = \"Python\"\n",
      "\n",
      "import roman\n",
      "import unittest\n",
      "\n",
      "class KnownValues(unittest.TestCase):\n",
      "    knownValues = ( (1, 'I'),\n",
      "                    (2, 'II'),\n",
      "                    (3, 'III'),\n",
      "                    (4, 'IV'),\n",
      "                    (5, 'V'),\n",
      "                    (6, 'VI'),\n",
      "                    (7, 'VII'),\n",
      "                    (8, 'VIII'),\n",
      "                    (9, 'IX'),\n",
      "                    (10, 'X'),\n",
      "                    (50, 'L'),\n",
      "                    (100, 'C'),\n",
      "                    (500, 'D'),\n",
      "                    (1000, 'M'),\n",
      "                    (31, 'XXXI'),\n",
      "                    (148, 'CXLVIII'),\n",
      "                    (294, 'CCXCIV'),\n",
      "                    (312, 'CCCXII'),\n",
      "                    (421, 'CDXXI'),\n",
      "                    (528, 'DXXVIII'),\n",
      "                    (621, 'DCXXI'),\n",
      "                    (782, 'DCCLXXXII'),\n",
      "                    (870, 'DCCCLXX'),\n",
      "                    (941, 'CMXLI'),\n",
      "                    (1043, 'MXLIII'),\n",
      "                    (1110, 'MCX'),\n",
      "                    (1226, 'MCCXXVI'),\n",
      "                    (1301, 'MCCCI'),\n",
      "                    (1485, 'MCDLXXXV'),\n",
      "                    (1509, 'MDIX'),\n",
      "                    (1607, 'MDCVII'),\n",
      "                    (1754, 'MDCCLIV'),\n",
      "                    (1832, 'MDCCCXXXII'),\n",
      "                    (1993, 'MCMXCIII'),\n",
      "                    (2074, 'MMLXXIV'),\n",
      "                    (2152, 'MMCLII'),\n",
      "                    (2212, 'MMCCXII'),\n",
      "                    (2343, 'MMCCCXLIII'),\n",
      "                    (2499, 'MMCDXCIX'),\n",
      "                    (2574, 'MMDLXXIV'),\n",
      "                    (2646, 'MMDCXLVI'),\n",
      "                    (2723, 'MMDCCXXIII'),\n",
      "                    (2892, 'MMDCCCXCII'),\n",
      "                    (2975, 'MMCMLXXV'),\n",
      "                    (3051, 'MMMLI'),\n",
      "                    (3185, 'MMMCLXXXV'),\n",
      "                    (3250, 'MMMCCL'),\n",
      "                    (3313, 'MMMCCCXIII'),\n",
      "                    (3408, 'MMMCDVIII'),\n",
      "                    (3501, 'MMMDI'),\n",
      "                    (3610, 'MMMDCX'),\n",
      "                    (3743, 'MMMDCCXLIII'),\n",
      "                    (3844, 'MMMDCCCXLIV'),\n",
      "                    (3888, 'MMMDCCCLXXXVIII'),\n",
      "                    (3940, 'MMMCMXL'),\n",
      "                    (3999, 'MMMCMXCIX'))\n",
      "\n",
      "    def testToRomanKnownValues(self):\n",
      "        \"\"\"toRoman should give known result with known input\"\"\"\n",
      "        for integer, numeral in self.knownValues:\n",
      "            result = roman.toRoman(integer)\n",
      "            self.assertEqual(numeral, result)\n",
      "\n",
      "    def testFromRomanKnownValues(self):\n",
      "        \"\"\"fromRoman should give known result with known input\"\"\"\n",
      "        for integer, numeral in self.knownValues:\n",
      "            result = roman.fromRoman(numeral)\n",
      "            self.assertEqual(integer, result)\n",
      "\n",
      "class ToRomanBadInput(unittest.TestCase):\n",
      "    def testTooLarge(self):\n",
      "        \"\"\"toRoman should fail with large input\"\"\"\n",
      "        self.assertRaises(roman.OutOfRangeError, roman.toRoman, 4000)\n",
      "\n",
      "    def testZero(self):\n",
      "        \"\"\"toRoman should fail with 0 input\"\"\"\n",
      "        self.assertRaises(roman.OutOfRangeError, roman.toRoman, 0)\n",
      "\n",
      "    def testNegative(self):\n",
      "        \"\"\"toRoman should fail with negative input\"\"\"\n",
      "        self.assertRaises(roman.OutOfRangeError, roman.toRoman, -1)\n",
      "\n",
      "    def testNonInteger(self):\n",
      "        \"\"\"toRoman should fail with non-integer input\"\"\"\n",
      "        self.assertRaises(roman.NotIntegerError, roman.toRoman, 0.5)\n",
      "\n",
      "class FromRomanBadInput(unittest.TestCase):\n",
      "    def testTooManyRepeatedNumerals(self):\n",
      "        \"\"\"fromRoman should fail with too many repeated numerals\"\"\"\n",
      "        for s in ('MMMM', 'DD', 'CCCC', 'LL', 'XXXX', 'VV', 'IIII'):\n",
      "            self.assertRaises(roman.InvalidRomanNumeralError, roman.fromRoman, s)\n",
      "\n",
      "    def testRepeatedPairs(self):\n",
      "        \"\"\"fromRoman should fail with repeated pairs of numerals\"\"\"\n",
      "        for s in ('CMCM', 'CDCD', 'XCXC', 'XLXL', 'IXIX', 'IVIV'):\n",
      "            self.assertRaises(roman.InvalidRomanNumeralError, roman.fromRoman, s)\n",
      "\n",
      "    def testMalformedAntecedent(self):\n",
      "        \"\"\"fromRoman should fail with malformed antecedents\"\"\"\n",
      "        for s in ('IIMXCC', 'VX', 'DCM', 'CMM', 'IXIV',\n",
      "                  'MCMC', 'XCX', 'IVI', 'LM', 'LD', 'LC'):\n",
      "            self.assertRaises(roman.InvalidRomanNumeralError, roman.fromRoman, s)\n",
      "\n",
      "class SanityCheck(unittest.TestCase):\n",
      "    def testSanity(self):\n",
      "        \"\"\"fromRoman(toRoman(n))==n for all n\"\"\"\n",
      "        for integer in range(1, 4000):\n",
      "            numeral = roman.toRoman(integer)\n",
      "            result = roman.fromRoman(numeral)\n",
      "            self.assertEqual(integer, result)\n",
      "\n",
      "class CaseCheck(unittest.TestCase):\n",
      "    def testToRomanCase(self):\n",
      "        \"\"\"toRoman should always return uppercase\"\"\"\n",
      "        for integer in range(1, 4000):\n",
      "            numeral = roman.toRoman(integer)\n",
      "            self.assertEqual(numeral, numeral.upper())\n",
      "\n",
      "    def testFromRomanCase(self):\n",
      "        \"\"\"fromRoman should only accept uppercase input\"\"\"\n",
      "        for integer in range(1, 4000):\n",
      "            numeral = roman.toRoman(integer)\n",
      "            roman.fromRoman(numeral.upper())\n",
      "            self.assertRaises(roman.InvalidRomanNumeralError,\n",
      "                              roman.fromRoman, numeral.lower())\n",
      "\n",
      "if __name__ == \"__main__\":\n",
      "    unittest.main()\n"
     ],
     "language": "python",
     "metadata": {},
     "outputs": [
      {
       "ename": "AttributeError",
       "evalue": "'module' object has no attribute '/Users/mikemcfarlane/'",
       "output_type": "pyerr",
       "traceback": [
        "\u001b[0;31m---------------------------------------------------------------------------\u001b[0m\n\u001b[0;31mAttributeError\u001b[0m                            Traceback (most recent call last)",
        "\u001b[0;32m<ipython-input-2-c0a5859930f6>\u001b[0m in \u001b[0;36m<module>\u001b[0;34m()\u001b[0m\n\u001b[1;32m    138\u001b[0m \u001b[0;34m\u001b[0m\u001b[0m\n\u001b[1;32m    139\u001b[0m \u001b[0;32mif\u001b[0m \u001b[0m__name__\u001b[0m \u001b[0;34m==\u001b[0m \u001b[0;34m\"__main__\"\u001b[0m\u001b[0;34m:\u001b[0m\u001b[0;34m\u001b[0m\u001b[0m\n\u001b[0;32m--> 140\u001b[0;31m     \u001b[0munittest\u001b[0m\u001b[0;34m.\u001b[0m\u001b[0mmain\u001b[0m\u001b[0;34m(\u001b[0m\u001b[0;34m)\u001b[0m\u001b[0;34m\u001b[0m\u001b[0m\n\u001b[0m",
        "\u001b[0;32m/Applications/Canopy.app/appdata/canopy-1.2.0.1610.macosx-x86_64/Canopy.app/Contents/lib/python2.7/unittest/main.pyc\u001b[0m in \u001b[0;36m__init__\u001b[0;34m(self, module, defaultTest, argv, testRunner, testLoader, exit, verbosity, failfast, catchbreak, buffer)\u001b[0m\n\u001b[1;32m     92\u001b[0m         \u001b[0mself\u001b[0m\u001b[0;34m.\u001b[0m\u001b[0mtestLoader\u001b[0m \u001b[0;34m=\u001b[0m \u001b[0mtestLoader\u001b[0m\u001b[0;34m\u001b[0m\u001b[0m\n\u001b[1;32m     93\u001b[0m         \u001b[0mself\u001b[0m\u001b[0;34m.\u001b[0m\u001b[0mprogName\u001b[0m \u001b[0;34m=\u001b[0m \u001b[0mos\u001b[0m\u001b[0;34m.\u001b[0m\u001b[0mpath\u001b[0m\u001b[0;34m.\u001b[0m\u001b[0mbasename\u001b[0m\u001b[0;34m(\u001b[0m\u001b[0margv\u001b[0m\u001b[0;34m[\u001b[0m\u001b[0;36m0\u001b[0m\u001b[0;34m]\u001b[0m\u001b[0;34m)\u001b[0m\u001b[0;34m\u001b[0m\u001b[0m\n\u001b[0;32m---> 94\u001b[0;31m         \u001b[0mself\u001b[0m\u001b[0;34m.\u001b[0m\u001b[0mparseArgs\u001b[0m\u001b[0;34m(\u001b[0m\u001b[0margv\u001b[0m\u001b[0;34m)\u001b[0m\u001b[0;34m\u001b[0m\u001b[0m\n\u001b[0m\u001b[1;32m     95\u001b[0m         \u001b[0mself\u001b[0m\u001b[0;34m.\u001b[0m\u001b[0mrunTests\u001b[0m\u001b[0;34m(\u001b[0m\u001b[0;34m)\u001b[0m\u001b[0;34m\u001b[0m\u001b[0m\n\u001b[1;32m     96\u001b[0m \u001b[0;34m\u001b[0m\u001b[0m\n",
        "\u001b[0;32m/Applications/Canopy.app/appdata/canopy-1.2.0.1610.macosx-x86_64/Canopy.app/Contents/lib/python2.7/unittest/main.pyc\u001b[0m in \u001b[0;36mparseArgs\u001b[0;34m(self, argv)\u001b[0m\n\u001b[1;32m    147\u001b[0m             \u001b[0;32melse\u001b[0m\u001b[0;34m:\u001b[0m\u001b[0;34m\u001b[0m\u001b[0m\n\u001b[1;32m    148\u001b[0m                 \u001b[0mself\u001b[0m\u001b[0;34m.\u001b[0m\u001b[0mtestNames\u001b[0m \u001b[0;34m=\u001b[0m \u001b[0;34m(\u001b[0m\u001b[0mself\u001b[0m\u001b[0;34m.\u001b[0m\u001b[0mdefaultTest\u001b[0m\u001b[0;34m,\u001b[0m\u001b[0;34m)\u001b[0m\u001b[0;34m\u001b[0m\u001b[0m\n\u001b[0;32m--> 149\u001b[0;31m             \u001b[0mself\u001b[0m\u001b[0;34m.\u001b[0m\u001b[0mcreateTests\u001b[0m\u001b[0;34m(\u001b[0m\u001b[0;34m)\u001b[0m\u001b[0;34m\u001b[0m\u001b[0m\n\u001b[0m\u001b[1;32m    150\u001b[0m         \u001b[0;32mexcept\u001b[0m \u001b[0mgetopt\u001b[0m\u001b[0;34m.\u001b[0m\u001b[0merror\u001b[0m\u001b[0;34m,\u001b[0m \u001b[0mmsg\u001b[0m\u001b[0;34m:\u001b[0m\u001b[0;34m\u001b[0m\u001b[0m\n\u001b[1;32m    151\u001b[0m             \u001b[0mself\u001b[0m\u001b[0;34m.\u001b[0m\u001b[0musageExit\u001b[0m\u001b[0;34m(\u001b[0m\u001b[0mmsg\u001b[0m\u001b[0;34m)\u001b[0m\u001b[0;34m\u001b[0m\u001b[0m\n",
        "\u001b[0;32m/Applications/Canopy.app/appdata/canopy-1.2.0.1610.macosx-x86_64/Canopy.app/Contents/lib/python2.7/unittest/main.pyc\u001b[0m in \u001b[0;36mcreateTests\u001b[0;34m(self)\u001b[0m\n\u001b[1;32m    156\u001b[0m         \u001b[0;32melse\u001b[0m\u001b[0;34m:\u001b[0m\u001b[0;34m\u001b[0m\u001b[0m\n\u001b[1;32m    157\u001b[0m             self.test = self.testLoader.loadTestsFromNames(self.testNames,\n\u001b[0;32m--> 158\u001b[0;31m                                                            self.module)\n\u001b[0m\u001b[1;32m    159\u001b[0m \u001b[0;34m\u001b[0m\u001b[0m\n\u001b[1;32m    160\u001b[0m     \u001b[0;32mdef\u001b[0m \u001b[0m_do_discovery\u001b[0m\u001b[0;34m(\u001b[0m\u001b[0mself\u001b[0m\u001b[0;34m,\u001b[0m \u001b[0margv\u001b[0m\u001b[0;34m,\u001b[0m \u001b[0mLoader\u001b[0m\u001b[0;34m=\u001b[0m\u001b[0mloader\u001b[0m\u001b[0;34m.\u001b[0m\u001b[0mTestLoader\u001b[0m\u001b[0;34m)\u001b[0m\u001b[0;34m:\u001b[0m\u001b[0;34m\u001b[0m\u001b[0m\n",
        "\u001b[0;32m/Applications/Canopy.app/appdata/canopy-1.2.0.1610.macosx-x86_64/Canopy.app/Contents/lib/python2.7/unittest/loader.pyc\u001b[0m in \u001b[0;36mloadTestsFromNames\u001b[0;34m(self, names, module)\u001b[0m\n\u001b[1;32m    126\u001b[0m         \u001b[0mof\u001b[0m \u001b[0mstring\u001b[0m \u001b[0mspecifiers\u001b[0m\u001b[0;34m.\u001b[0m \u001b[0mSee\u001b[0m \u001b[0;34m'loadTestsFromName()'\u001b[0m\u001b[0;34m.\u001b[0m\u001b[0;34m\u001b[0m\u001b[0m\n\u001b[1;32m    127\u001b[0m         \"\"\"\n\u001b[0;32m--> 128\u001b[0;31m         \u001b[0msuites\u001b[0m \u001b[0;34m=\u001b[0m \u001b[0;34m[\u001b[0m\u001b[0mself\u001b[0m\u001b[0;34m.\u001b[0m\u001b[0mloadTestsFromName\u001b[0m\u001b[0;34m(\u001b[0m\u001b[0mname\u001b[0m\u001b[0;34m,\u001b[0m \u001b[0mmodule\u001b[0m\u001b[0;34m)\u001b[0m \u001b[0;32mfor\u001b[0m \u001b[0mname\u001b[0m \u001b[0;32min\u001b[0m \u001b[0mnames\u001b[0m\u001b[0;34m]\u001b[0m\u001b[0;34m\u001b[0m\u001b[0m\n\u001b[0m\u001b[1;32m    129\u001b[0m         \u001b[0;32mreturn\u001b[0m \u001b[0mself\u001b[0m\u001b[0;34m.\u001b[0m\u001b[0msuiteClass\u001b[0m\u001b[0;34m(\u001b[0m\u001b[0msuites\u001b[0m\u001b[0;34m)\u001b[0m\u001b[0;34m\u001b[0m\u001b[0m\n\u001b[1;32m    130\u001b[0m \u001b[0;34m\u001b[0m\u001b[0m\n",
        "\u001b[0;32m/Applications/Canopy.app/appdata/canopy-1.2.0.1610.macosx-x86_64/Canopy.app/Contents/lib/python2.7/unittest/loader.pyc\u001b[0m in \u001b[0;36mloadTestsFromName\u001b[0;34m(self, name, module)\u001b[0m\n\u001b[1;32m     98\u001b[0m         \u001b[0mobj\u001b[0m \u001b[0;34m=\u001b[0m \u001b[0mmodule\u001b[0m\u001b[0;34m\u001b[0m\u001b[0m\n\u001b[1;32m     99\u001b[0m         \u001b[0;32mfor\u001b[0m \u001b[0mpart\u001b[0m \u001b[0;32min\u001b[0m \u001b[0mparts\u001b[0m\u001b[0;34m:\u001b[0m\u001b[0;34m\u001b[0m\u001b[0m\n\u001b[0;32m--> 100\u001b[0;31m             \u001b[0mparent\u001b[0m\u001b[0;34m,\u001b[0m \u001b[0mobj\u001b[0m \u001b[0;34m=\u001b[0m \u001b[0mobj\u001b[0m\u001b[0;34m,\u001b[0m \u001b[0mgetattr\u001b[0m\u001b[0;34m(\u001b[0m\u001b[0mobj\u001b[0m\u001b[0;34m,\u001b[0m \u001b[0mpart\u001b[0m\u001b[0;34m)\u001b[0m\u001b[0;34m\u001b[0m\u001b[0m\n\u001b[0m\u001b[1;32m    101\u001b[0m \u001b[0;34m\u001b[0m\u001b[0m\n\u001b[1;32m    102\u001b[0m         \u001b[0;32mif\u001b[0m \u001b[0misinstance\u001b[0m\u001b[0;34m(\u001b[0m\u001b[0mobj\u001b[0m\u001b[0;34m,\u001b[0m \u001b[0mtypes\u001b[0m\u001b[0;34m.\u001b[0m\u001b[0mModuleType\u001b[0m\u001b[0;34m)\u001b[0m\u001b[0;34m:\u001b[0m\u001b[0;34m\u001b[0m\u001b[0m\n",
        "\u001b[0;31mAttributeError\u001b[0m: 'module' object has no attribute '/Users/mikemcfarlane/'"
       ]
      }
     ],
     "prompt_number": 2
    },
    {
     "cell_type": "code",
     "collapsed": false,
     "input": [
      "# roman.py\n",
      "\n",
      "\"\"\"Convert to and from Roman numerals\"\"\"\n",
      "\n",
      "#Define exceptions\n",
      "class RomanError(Exception): pass\n",
      "class OutOfRangeError(RomanError): pass\n",
      "class NotIntegerError(RomanError): pass\n",
      "class InvalidRomanNumeralError(RomanError): pass\n",
      "\n",
      "import re\n",
      "\n",
      "#Define digit mapping\n",
      "romanNumeralMap = (('M',  1000),\n",
      "                   ('CM', 900),\n",
      "                   ('D',  500),\n",
      "                   ('CD', 400),\n",
      "                   ('C',  100),\n",
      "                   ('XC', 90),\n",
      "                   ('L',  50),\n",
      "                   ('XL', 40),\n",
      "                   ('X',  10),\n",
      "                   ('IX', 9),\n",
      "                   ('V',  5),\n",
      "                   ('IV', 4),\n",
      "                   ('I',  1))\n",
      "\n",
      "def toRoman(n):\n",
      "    \"\"\"convert integer to Roman numeral\"\"\"\n",
      "    if not (0 < n < 4000):\n",
      "        raise OutOfRangeError, \"number out of range (must be 1..3999)\"\n",
      "    if int(n) <> n:\n",
      "        raise NotIntegerError, \"non-integers can not be converted\"\n",
      "\n",
      "    result = \"\"\n",
      "    for numeral, integer in romanNumeralMap:\n",
      "        while n >= integer:\n",
      "            result += numeral\n",
      "            n -= integer\n",
      "    return result\n",
      "\n",
      "#Define pattern to detect valid Roman numerals\n",
      "romanNumeralPattern = '^M?M?M?(CM|CD|D?C?C?C?)(XC|XL|L?X?X?X?)(IX|IV|V?I?I?I?)$'\n",
      "\n",
      "def fromRoman(s):\n",
      "    \"\"\"convert Roman numeral to integer\"\"\"\n",
      "    if not re.search(romanNumeralPattern, s):\n",
      "        raise InvalidRomanNumeralError, 'Invalid Roman numeral: %s' % s\n",
      "    result = 0\n",
      "    index = 0\n",
      "    for numeral, integer in romanNumeralMap:\n",
      "        while s[index:index+len(numeral)] == numeral:\n",
      "            result += integer\n",
      "            index += len(numeral)\n",
      "    return result\n"
     ],
     "language": "python",
     "metadata": {},
     "outputs": [],
     "prompt_number": 1
    },
    {
     "cell_type": "code",
     "collapsed": false,
     "input": [],
     "language": "python",
     "metadata": {},
     "outputs": []
    }
   ],
   "metadata": {}
  }
 ]
}